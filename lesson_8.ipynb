{
 "cells": [
  {
   "cell_type": "code",
   "execution_count": 7,
   "metadata": {
    "collapsed": false
   },
   "outputs": [
    {
     "data": {
      "image/png": "[encoded data removed]",
      "text/plain": [
       "<matplotlib.figure.Figure at 0x5f5d208>"
      ]
     },
     "metadata": {},
     "output_type": "display_data"
    }
   ],
   "source": [
    "import random\n",
    "from __future__ import division\n",
    "import math\n",
    "from matplotlib import pyplot as plt\n",
    "from collections import Counter\n",
    "from functools import partial\n",
    "\n",
    "def sum_of_squares(v):\n",
    "    return sum(v_i **2 for v_i in v)\n",
    "\n",
    "\n",
    "def difference_quotient(f,x,h):\n",
    "    return (f(x+h)-f(x))/h\n",
    "\n",
    "def square(x):\n",
    "    return x*x\n",
    "\n",
    "def derivative(x):\n",
    "    return 2*x\n",
    "\n",
    "derivative_estimate=partial(difference_quotient,square,h=0.0001)\n",
    "\n",
    "x=range(-10,10)\n",
    "plt.title(\"Actual DERIVATIVES VS. eSTIMATES\")\n",
    "plt.plot(x,map(derivative,x), 'rx',label='Actual')\n",
    "plt.plot(x,map(derivative_estimate,x), 'b+',label='Estimate')\n",
    "\n",
    "plt.legend(loc=9)\n",
    "plt.show()"
   ]
  },
  {
   "cell_type": "code",
   "execution_count": 10,
   "metadata": {
    "collapsed": false
   },
   "outputs": [
    {
     "ename": "NameError",
     "evalue": "name 'distance' is not defined",
     "output_type": "error",
     "traceback": [
      "\u001b[0;31m---------------------------------------------------------------------------\u001b[0m",
      "\u001b[0;31mNameError\u001b[0m                                 Traceback (most recent call last)",
      "\u001b[0;32m<ipython-input-10-00c421bfcda5>\u001b[0m in \u001b[0;36m<module>\u001b[0;34m()\u001b[0m\n\u001b[1;32m     26\u001b[0m     \u001b[0mgradient\u001b[0m\u001b[1;33m=\u001b[0m\u001b[0msum_of_squares_gradient\u001b[0m\u001b[1;33m(\u001b[0m\u001b[0mv\u001b[0m\u001b[1;33m)\u001b[0m\u001b[1;33m\u001b[0m\u001b[0m\n\u001b[1;32m     27\u001b[0m     \u001b[0mnext_v\u001b[0m\u001b[1;33m=\u001b[0m\u001b[0mstep\u001b[0m\u001b[1;33m(\u001b[0m\u001b[0mv\u001b[0m\u001b[1;33m,\u001b[0m\u001b[0mgradient\u001b[0m\u001b[1;33m,\u001b[0m\u001b[1;33m-\u001b[0m\u001b[1;36m0.01\u001b[0m\u001b[1;33m)\u001b[0m\u001b[1;33m\u001b[0m\u001b[0m\n\u001b[0;32m---> 28\u001b[0;31m     \u001b[1;32mif\u001b[0m \u001b[0mdistance\u001b[0m\u001b[1;33m(\u001b[0m\u001b[0mnext_v\u001b[0m\u001b[1;33m,\u001b[0m\u001b[0mv\u001b[0m\u001b[1;33m)\u001b[0m\u001b[1;33m<\u001b[0m \u001b[0mtolerance\u001b[0m\u001b[1;33m:\u001b[0m\u001b[1;33m\u001b[0m\u001b[0m\n\u001b[0m\u001b[1;32m     29\u001b[0m         \u001b[1;32mbreak\u001b[0m\u001b[1;33m\u001b[0m\u001b[0m\n\u001b[1;32m     30\u001b[0m     \u001b[0mv\u001b[0m\u001b[1;33m=\u001b[0m\u001b[0mnext_v\u001b[0m\u001b[1;33m\u001b[0m\u001b[0m\n",
      "\u001b[0;31mNameError\u001b[0m: name 'distance' is not defined"
     ]
    }
   ],
   "source": [
    "#多個偏導數\n",
    "\n",
    "def partial_difference_quotient(f,v,i,h):\n",
    "    w=[v_j+(h if j==i else 0) for j,v_j in enumerate(v)]\n",
    "    \n",
    "    return (f(w)-f(v))/h\n",
    "\n",
    "def estimate_gradient(f,v,h=0.00001):\n",
    "    return [partial_difference_quotient(f,v,h) for i,_ in enumerate(v)]\n",
    "\n",
    "\n",
    "\n",
    "#運用\n",
    "\n",
    "def step(v,direction,step_size):\n",
    "    return [v_i+step_size * direction_i for v_i,direction_i in zip(v,direction)]\n",
    "\n",
    "def sum_of_squares_gradient(v):\n",
    "    return [2*v_i for v_i in v]\n",
    "\n",
    "v=[random.randint(-10,10) for i in range(3)]\n",
    "\n",
    "tolerance=0.0000001\n",
    "\n",
    "while True:\n",
    "    gradient=sum_of_squares_gradient(v)\n",
    "    next_v=step(v,gradient,-0.01)\n",
    "    if distance(next_v,v)< tolerance:\n",
    "        break\n",
    "    v=next_v\n",
    "\n"
   ]
  },
  {
   "cell_type": "code",
   "execution_count": 11,
   "metadata": {
    "collapsed": true
   },
   "outputs": [],
   "source": [
    "step_sizes=[100,10,1,0.1,0.01,0.001,0.0001,0.00001]\n",
    "\n",
    "def safe(f):\n",
    "    def safe_f(*args,**kwargs):\n",
    "        try:\n",
    "            return f(*args,**kwargs)\n",
    "        except:\n",
    "            return float('inf')\n",
    "    return safe(f)\n",
    "\n",
    "\n",
    "\n",
    "#最小化處理程序\n",
    "def minimize_batch(target_fn,gradient_fn,theta_0,tolerance=0.000001):\n",
    "    \n",
    "    step_sizes=[100,10,1,0.1,0.01,0.001,0.0001,0.00001]\n",
    "    \n",
    "    theta=theta_0\n",
    "    target_fn=sage(target_fn)\n",
    "    value=target_fn(theta)\n",
    "    \n",
    "    while True:\n",
    "        gradient=gradient_fn(theta)\n",
    "        next_thetas=[step(theta,gradient,-step_size) for step_size in step_sizes]\n",
    "        \n",
    "        next_theta=min(next_thetas,key=target_fn)\n",
    "        next_value=target_fn(next_theta)\n",
    "        \n",
    "        if abs(value-next_value) < tolerance:\n",
    "            return theta\n",
    "        else:\n",
    "            theta,value=next_theta,next_value\n",
    "            \n",
    "\n",
    "#隨機梯度遞減\n",
    "def in_random_order(data):\n",
    "    indexes=[i for i,_ in enumerate(data)]\n",
    "    random.shuffle(indexes)\n",
    "    for i in indexes:\n",
    "        yield data[i]\n",
    "    \n",
    "def minimize_stochastic(target_fn,gradient_fn,x,y,theta_0,alpha_0=0.01):\n",
    "    \n",
    "    data=zip(x,y)\n",
    "    theta=theta_0 #猜測值\n",
    "    alpha=alpha_0 #初始間隔長度 step\n",
    "    min_theta,min_value=None,float('inf')   #目前的最小值\n",
    "    iteration_with_no_improvement=0\n",
    "    \n",
    "    while iterations_with_no_improvement<100:\n",
    "        value=sum(target_fn(x_i,y_i,theta) for x_i,y_i in data)\n",
    "        \n",
    "        if value<min_value:\n",
    "            min_theta,min_value=theta,value\n",
    "            iterations_with_no_improvement=0\n",
    "            alpha=alpha_0\n",
    "        else:\n",
    "            iterations_with_no_improvement+=1\n",
    "            alpha*=0.9\n",
    "        \n",
    "        for x_i,y_i in in_random_order(data):\n",
    "            gradient_i =gradient_fn(x_i,y_i,theta)\n",
    "            theta=vector_subtract(theta,scalar_multiply(alpha,gradient_i))\n",
    "    \n",
    "    return min_theta\n",
    "\n"
   ]
  },
  {
   "cell_type": "code",
   "execution_count": null,
   "metadata": {
    "collapsed": true
   },
   "outputs": [],
   "source": []
  }
 ],
 "metadata": {
  "anaconda-cloud": {},
  "kernelspec": {
   "display_name": "Python [conda root]",
   "language": "python",
   "name": "conda-root-py"
  },
  "language_info": {
   "codemirror_mode": {
    "name": "ipython",
    "version": 2
   },
   "file_extension": ".py",
   "mimetype": "text/x-python",
   "name": "python",
   "nbconvert_exporter": "python",
   "pygments_lexer": "ipython2",
   "version": "2.7.12"
  }
 },
 "nbformat": 4,
 "nbformat_minor": 1
}
