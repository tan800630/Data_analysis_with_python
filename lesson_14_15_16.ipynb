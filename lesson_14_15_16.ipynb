{
 "cells": [
  {
   "cell_type": "code",
   "execution_count": 1,
   "metadata": {
    "collapsed": false
   },
   "outputs": [
    {
     "ename": "NameError",
     "evalue": "name 'num_friends_good' is not defined",
     "output_type": "error",
     "traceback": [
      "\u001b[0;31m---------------------------------------------------------------------------\u001b[0m",
      "\u001b[0;31mNameError\u001b[0m                                 Traceback (most recent call last)",
      "\u001b[0;32m<ipython-input-1-b92b602b48b1>\u001b[0m in \u001b[0;36m<module>\u001b[0;34m()\u001b[0m\n\u001b[1;32m     18\u001b[0m \u001b[1;31m#no data\u001b[0m\u001b[1;33m\u001b[0m\u001b[1;33m\u001b[0m\u001b[0m\n\u001b[1;32m     19\u001b[0m \u001b[1;33m\u001b[0m\u001b[0m\n\u001b[0;32m---> 20\u001b[0;31m \u001b[0malpha\u001b[0m\u001b[1;33m,\u001b[0m\u001b[0mbeta\u001b[0m \u001b[1;33m=\u001b[0m \u001b[0mleast_squares_fit\u001b[0m\u001b[1;33m(\u001b[0m\u001b[0mnum_friends_good\u001b[0m\u001b[1;33m,\u001b[0m\u001b[0mdaily_minutes_good\u001b[0m\u001b[1;33m)\u001b[0m\u001b[1;33m\u001b[0m\u001b[0m\n\u001b[0m\u001b[1;32m     21\u001b[0m \u001b[1;33m\u001b[0m\u001b[0m\n\u001b[1;32m     22\u001b[0m \u001b[1;33m\u001b[0m\u001b[0m\n",
      "\u001b[0;31mNameError\u001b[0m: name 'num_friends_good' is not defined"
     ]
    }
   ],
   "source": [
    "import numpy,random\n",
    "\n",
    "def predict(alpha,beta,x_i):\n",
    "    return beta*x_i+alpha\n",
    "\n",
    "def error(alpha,beta,x_i,y_i):\n",
    "    return y_i-predict(alpha,beta,x_i)\n",
    "\n",
    "def sum_of_squared_errors(alpha,beta,x,y):\n",
    "    return sum(error(alpha,beta,x_i,y_i) **2\n",
    "              for x_i,y_i in zip(x,y))\n",
    "\n",
    "def least_squares_fit(x,y):\n",
    "    beta=numpy.corrcoef(x,y)[0][1]* standard_deviation(y)/standard_deviation(x)\n",
    "    alpha =mean(y)-beta*mean(x)\n",
    "    return alpha,beta\n",
    "\n",
    "#no data\n",
    "\n",
    "alpha,beta = least_squares_fit(num_friends_good,daily_minutes_good)\n",
    "\n",
    "\n",
    "def total_sum_of_squares(y):\n",
    "    return sum(v**2 for v in de_mean(y))\n",
    "\n",
    "def r_squared(alpha,beta,x,y):\n",
    "    return 1.0-(sum_of_squared_errors(alpha,beta,x,y)/\n",
    "               total_sum_of_squares(y))\n",
    "\n",
    "#gradient descent\n",
    "def squared_error(x_i,y_i,theta):\n",
    "    alpha,beta=theta\n",
    "    return error(alpha,beta,x_i,y_i)**2\n",
    "\n",
    "def squared_error_gradient(x_i,y_i,theta):\n",
    "    alpha,beta=theta\n",
    "    return[-2*error(alpha,beta,x_i,y_i),\n",
    "          -2*error(alpha,beta,x_i,y_i)*x_i]\n",
    "\n",
    "random.seed(0)\n",
    "theta=[random.random(),random.random()]\n",
    "alpha,beta=minimize_stochastic(squared_error,squared_error_gradient,\n",
    "                              num_friends_good,\n",
    "                              daily_minutes_good,\n",
    "                              theta,\n",
    "                              0.0001)\n",
    "print alpha,beta"
   ]
  },
  {
   "cell_type": "code",
   "execution_count": null,
   "metadata": {
    "collapsed": false
   },
   "outputs": [],
   "source": [
    "##多元回歸\n",
    "\n",
    "def predict(x_i,beta):\n",
    "    return dot(x_i,beta)\n",
    "\n",
    "def error(x_i,y_i,beta):\n",
    "    return y_i-predict(x_i,beta)\n",
    "\n",
    "def squared_error(x_i,y_i,beta):\n",
    "    return error(x_i,y_i,beta)**2\n",
    "\n",
    "def squared_error_gradient(x_i,y_i,beta):\n",
    "    return[-2*x_ij*error(x_i,y_i,beta)\n",
    "          for x_ij in x_i]\n",
    "\n",
    "def estimate_beta(x,y):\n",
    "    beta_initial=[random.random() for x_i in x[0]]\n",
    "    return minimize_stochastic(squared_error,squared_error_gradient,\n",
    "                              x,y,beta,initial,0.001)\n",
    "\n",
    "random.seed(0)\n",
    "beta=estimate_beta(x,daily,minutes_good)"
   ]
  },
  {
   "cell_type": "code",
   "execution_count": null,
   "metadata": {
    "collapsed": false
   },
   "outputs": [],
   "source": [
    "\n",
    "def multiple_r_squared(x,y,beta):\n",
    "    sum_of_squared_errors=sum(error(x_i,y_i,beta)**2\n",
    "                             for x_i,y_i in zip(x,y))\n",
    "    return 1.0-sum_of_squared_errors/total_sum_of_squared(y)\n",
    "\n",
    "#bootstrapping\n",
    "\n",
    "def bootstrap_sample(data):\n",
    "    return [random.choice(data) for _ in data]\n",
    "\n",
    "def bootstrap_statistic(data,stats_fn,num_samples):\n",
    "    return [stats_fn(bootstrap_sample(data)\n",
    "                    for _ in range(num_samples))]\n",
    "\n",
    "#example\n",
    "\n",
    "close_to_100=[99.5+random.random() for _ in range(101)]\n",
    "\n",
    "far_from_100=([99.5+random.random()]+\n",
    "              [random.random() for _ in range(50)]+\n",
    "              [200+random.random() for _ in range(50)])\n",
    "\n",
    "bootstrap_statistic(close_to_100,median,100)\n",
    "bootstrap_statistic(far_from_100,median,100)"
   ]
  },
  {
   "cell_type": "code",
   "execution_count": null,
   "metadata": {
    "collapsed": false
   },
   "outputs": [],
   "source": [
    "def estimate_sample_beta(sample):\n",
    "    return estimate_beta(x_sample,y_sample)\n",
    "\n",
    "random.seed(0)\n",
    "\n",
    "bootstrap_betas=bootstrap_statistic(zip(x,daily_minutes_good),\n",
    "                                   estimate_sample_beta,\n",
    "                                   100)\n",
    "\n",
    "bootstrap_standard_errors=[\n",
    "    standard_deviation([beta[i] for beta in bootstrap_betas])\n",
    "    for i in range(4)]\n",
    "\n",
    "def p_value(beta_hat_j,sigma_hat_j):\n",
    "    if beta_hat_j>0:\n",
    "        return 2*(1-normal_cdf(beta_hat_j,sigma_hat_j))\n",
    "    else:\n",
    "        return 2*normal_cdf(beta_hat_j/sigma_hat_j)\n",
    "    "
   ]
  },
  {
   "cell_type": "code",
   "execution_count": 2,
   "metadata": {
    "collapsed": false
   },
   "outputs": [
    {
     "ename": "NameError",
     "evalue": "name 'x' is not defined",
     "output_type": "error",
     "traceback": [
      "\u001b[0;31m---------------------------------------------------------------------------\u001b[0m",
      "\u001b[0;31mNameError\u001b[0m                                 Traceback (most recent call last)",
      "\u001b[0;32m<ipython-input-2-c9999602f2a7>\u001b[0m in \u001b[0;36m<module>\u001b[0;34m()\u001b[0m\n\u001b[1;32m     22\u001b[0m                               beta_initial,0.001)\n\u001b[1;32m     23\u001b[0m \u001b[0mrandom\u001b[0m\u001b[1;33m.\u001b[0m\u001b[0mseed\u001b[0m\u001b[1;33m(\u001b[0m\u001b[1;36m0\u001b[0m\u001b[1;33m)\u001b[0m\u001b[1;33m\u001b[0m\u001b[0m\n\u001b[0;32m---> 24\u001b[0;31m \u001b[0mbeta_0\u001b[0m\u001b[1;33m=\u001b[0m\u001b[0mestimate_beta_ridge\u001b[0m\u001b[1;33m(\u001b[0m\u001b[0mx\u001b[0m\u001b[1;33m,\u001b[0m\u001b[0mdaily_minutes_good\u001b[0m\u001b[1;33m,\u001b[0m\u001b[0malpha\u001b[0m\u001b[1;33m=\u001b[0m\u001b[1;36m0.0\u001b[0m\u001b[1;33m)\u001b[0m\u001b[1;33m\u001b[0m\u001b[0m\n\u001b[0m\u001b[1;32m     25\u001b[0m \u001b[1;33m\u001b[0m\u001b[0m\n\u001b[1;32m     26\u001b[0m \u001b[1;33m\u001b[0m\u001b[0m\n",
      "\u001b[0;31mNameError\u001b[0m: name 'x' is not defined"
     ]
    }
   ],
   "source": [
    "#regularization\n",
    "\n",
    "def ridge_penalty(beta,alpha):\n",
    "    return alpha*dot(beta[1:],beta[1:])\n",
    "\n",
    "def squared_error_ridge(x_i,y_i,beta,alpha):\n",
    "    return error(x_i,y_i,beta)**2+ridge_penalty(beta,alpha)\n",
    "\n",
    "def ridge_penalty_gradient(beta,alpha):\n",
    "    return [0]+[2*alpha*beta_j for beta_j in beta[1:]]\n",
    "\n",
    "def squared_error_ridge_gradient(x_i,y_i,beta,alpha):\n",
    "    return vector_add(squared_error_gradient(x_i,y_i,beta),\n",
    "                     ridge_penalty_gradient(beta,alpha))\n",
    "\n",
    "def estimate_beta_ridge(x,y,alpha):\n",
    "    beta_initial=[random.random() for x_i in x[0]]\n",
    "    return minimize_stochastic(partial(squared_error_ridge,alpha=alpha),\n",
    "                              partial(squared_error_ridge_gradient,\n",
    "                                     alpha=alpha),\n",
    "                              x,y,\n",
    "                              beta_initial,0.001)\n",
    "random.seed(0)\n",
    "beta_0=estimate_beta_ridge(x,daily_minutes_good,alpha=0.0)\n",
    "\n",
    "\n",
    "#lasso\n",
    "def lasso_penalty(beta,alpha):\n",
    "    return alpha*sum(abs(beta_i) for beta_i in beta[1:])\n",
    "\n"
   ]
  },
  {
   "cell_type": "code",
   "execution_count": null,
   "metadata": {
    "collapsed": true
   },
   "outputs": [],
   "source": [
    "#logistic regression\n",
    "\n",
    "def logistic(x):\n",
    "    return 1.0/(1+math.exp(-x))\n",
    "\n",
    "def logistic_prime(x):\n",
    "    return logistic(x)*(1-logistic(x))\n",
    "\n",
    "def logistic_log_likelihood_i(x_i,y_i,beta):\n",
    "    if y_i==1:\n",
    "        return math.log(logistic(dot(x_i,beta)))\n",
    "    else:\n",
    "        return math.log(1-logistic(dot(x_i,beta)))\n",
    "\n",
    "def logistic_log_likelihood(x,y,beta):\n",
    "    return sum(logistic_log_likelihood_i(x_i,y_i,beta)\n",
    "              for x_i,y_i in zip(x,y))\n",
    "\n",
    "def logistic_log_partial_ij(x_i,y_i,beta,j):\n",
    "    return (y_i-logistic(dot(x_i,beta)))*x_i[j]\n",
    "\n",
    "def logistic_log_gradient_i(x_i,y_i,beta):\n",
    "    return [logistic_log_partial_ij(x_i,y_i,beta,j)\n",
    "           for j,_ in enumerate(beta)]\n",
    "\n",
    "def logistic_log_gradient(x,y,beta):\n",
    "    return reduce(vector_add,\n",
    "                 [logistic_log_gradient_i(x_i,y_i,beta)\n",
    "                 for x_i,y_i in zip(x,y)])\n",
    "\n",
    "\n",
    "\n",
    "random.seed(0)\n",
    "x_train,x_test,y_train,y_test=train_test_split(rescaled_x,y,0.33)\n",
    "\n",
    "fn=partial(logistic_log_likelihood,x_train,y_train)\n",
    "gradient_fn=partial(logistic_log_gradient,x_train,y_train)\n",
    "\n",
    "#隨機起始\n",
    "beta_0=[random.random() for _ in range(3)]\n",
    "\n",
    "beta_hat=maximize_batch(fn,gradient_fn,beta_0)\n",
    "\n",
    "#beta_hat=maximize_stochastic(logistic_log_likelihood_i,\n",
    "#                             logistic_log_gradient_i,\n",
    "#                            x_train,y_train,beta_0)\n",
    "\n",
    "#有提到SVM\n",
    "#scikit-learn  &  libsvm"
   ]
  }
 ],
 "metadata": {
  "anaconda-cloud": {},
  "kernelspec": {
   "display_name": "Python [conda root]",
   "language": "python",
   "name": "conda-root-py"
  },
  "language_info": {
   "codemirror_mode": {
    "name": "ipython",
    "version": 2
   },
   "file_extension": ".py",
   "mimetype": "text/x-python",
   "name": "python",
   "nbconvert_exporter": "python",
   "pygments_lexer": "ipython2",
   "version": "2.7.12"
  }
 },
 "nbformat": 4,
 "nbformat_minor": 1
}
