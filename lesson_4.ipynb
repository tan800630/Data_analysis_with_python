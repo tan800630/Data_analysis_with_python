{
 "cells": [
  {
   "cell_type": "code",
   "execution_count": 3,
   "metadata": {
    "collapsed": true
   },
   "outputs": [],
   "source": [
    "import math\n",
    "\n",
    "height_weight_age=[70,170,40]\n",
    "grades=[95,80,75,62]\n",
    "\n",
    "def vector_add(v,w):\n",
    "    return[v_i+w_i for v_i,w_i in zip(v,w)]\n",
    "\n",
    "def vector_substract(v,w):\n",
    "    return[v_i-w_i for v_i,w_i in zip(v,w)]\n",
    "\n",
    "def vector_sum(vectors):\n",
    "    return reduce(vector_add,vectors)\n",
    "\n",
    "def scalar_multiply(c,v):\n",
    "    return[c*v_i for v_i in v]\n",
    "\n",
    "def vector_mean(vectors):\n",
    "    return scalar_multiply(1/len(vectors),vector_sum(vectors))\n",
    "\n",
    "def dot(v,w):\n",
    "    return sum(v_i*w_i for v_i,w_i in zip(v,w))\n",
    "\n",
    "def sum_of_squares(v):\n",
    "    return dot(v,v)\n",
    "\n",
    "def magnitude(v):\n",
    "    return math.sqrt(sum_of_squares(v))\n",
    "\n",
    "def squared_distance(v,w):\n",
    "    return sum_of_squares(vector_substract(v,w))\n",
    "\n",
    "def distance(v,w):\n",
    "    return math.sqrt(squared_distance(v,w))\n",
    "\n",
    "## or you can import numpy ˊ_>ˋ"
   ]
  },
  {
   "cell_type": "code",
   "execution_count": 4,
   "metadata": {
    "collapsed": false
   },
   "outputs": [],
   "source": [
    "A=[[1,2,3],[4,5,6]]\n",
    "B=[[1,2],[3,4],[5,6]]\n",
    "\n",
    "def shape(A):\n",
    "    num_rows=len(A)\n",
    "    num_cols=len(A[0]) if A else 0\n",
    "    return num_rows,num_cols\n",
    "\n",
    "def get_row(A,i):\n",
    "    return(A[i])\n",
    "\n",
    "def get_column(A,j):\n",
    "    return [A_i[j] for A_i in A]\n",
    "\n",
    "def make_matrix(num_rows,num_cols,entry_fn):\n",
    "    return [[entry_fn(i,j) for j in range(num_cols)] for i in range(num_rows)]\n",
    "\n",
    "def is_diagonal(i,j):\n",
    "    return 1 if i==j else 0\n",
    "\n",
    "identity_matrix=make_matrix(5,5,is_diagonal)"
   ]
  }
 ],
 "metadata": {
  "anaconda-cloud": {},
  "kernelspec": {
   "display_name": "Python [conda root]",
   "language": "python",
   "name": "conda-root-py"
  },
  "language_info": {
   "codemirror_mode": {
    "name": "ipython",
    "version": 2
   },
   "file_extension": ".py",
   "mimetype": "text/x-python",
   "name": "python",
   "nbconvert_exporter": "python",
   "pygments_lexer": "ipython2",
   "version": "2.7.12"
  }
 },
 "nbformat": 4,
 "nbformat_minor": 1
}
