{
 "cells": [
  {
   "cell_type": "code",
   "execution_count": 5,
   "metadata": {
    "collapsed": false
   },
   "outputs": [],
   "source": [
    "from collections import Counter,defaultdict\n",
    "import math\n",
    "\n",
    "users_interests=[\n",
    "    [\"Hadoop\",\"Big Data\",\"HBase\",\"Java\",\"Spark\",\"Storm\",\"Cassandra\"],\n",
    "    [\"NoSQL\",\"MongoDB\",\"Cassandra\",\"HBase\",\"Postgres\"],\n",
    "    [\"Python\",\"scikit-learn\",\"scipy\",\"numpy\",\"statsmodels\",\"pandas\"],\n",
    "    [\"R\",\"Python\",\"statistics\",\"regression\",\"probability\"],\n",
    "    [\"machine learning\",\"regression\",\"decision trees\",\"libsvm\"],\n",
    "    [\"Python\",\"R\",\"Java\",\"C++\",\"Haskell\",\"programming languages\"],\n",
    "    [\"statistics\",\"probability\",\"mathematics\",\"theory\"],\n",
    "    [\"machine learning\",\"scikit-learn\",\"Mahout\",\"neural networks\"],\n",
    "    [\"neural networks\",\"deep learning\",\"Big Data\",\"artificial intelligence\"],\n",
    "    [\"Hadoop\",\"Java\",\"MapReduce\",\"Big Data\"],\n",
    "    [\"statistics\",\"R\",\"statsmodels\"],\n",
    "    [\"C++\",\"deep learning\",\"artificial intelligence\"],\n",
    "    [\"pandas\",\"R\",\"Python\"],\n",
    "    [\"databases\",\"HBase\",\"Postgres\",\"MySQL\",\"MongoDB\"],\n",
    "    [\"libsvm\",\"regression\",\"support vector machines\"]\n",
    "]\n",
    "\n",
    "popular_interests=Counter(interest for user_interests in users_interests for interest in user_interests ).most_common()\n",
    "\n",
    "\n",
    "def most_popular_new_interests(user_intersts,max_result=5):\n",
    "    suggestions=[(interest,frequency)\n",
    "                for interest,frequency in popular_interests\n",
    "                if interest not in user_interests]\n",
    "    return suggestions[:max_results]\n",
    "\n"
   ]
  },
  {
   "cell_type": "code",
   "execution_count": 4,
   "metadata": {
    "collapsed": false
   },
   "outputs": [
    {
     "ename": "NameError",
     "evalue": "global name 'dot' is not defined",
     "output_type": "error",
     "traceback": [
      "\u001b[0;31m---------------------------------------------------------------------------\u001b[0m",
      "\u001b[0;31mNameError\u001b[0m                                 Traceback (most recent call last)",
      "\u001b[0;32m<ipython-input-4-61a795447a23>\u001b[0m in \u001b[0;36m<module>\u001b[0;34m()\u001b[0m\n\u001b[1;32m     14\u001b[0m user_similarities=[[cosine_similarity(interest_vector_i,interest_vector_j)\n\u001b[1;32m     15\u001b[0m                    for interest_vector_j in user_interest_matrix]\n\u001b[0;32m---> 16\u001b[0;31m                   for interest_vector_i in user_interest_matrix]\n\u001b[0m\u001b[1;32m     17\u001b[0m \u001b[1;33m\u001b[0m\u001b[0m\n\u001b[1;32m     18\u001b[0m \u001b[1;33m\u001b[0m\u001b[0m\n",
      "\u001b[0;32m<ipython-input-4-61a795447a23>\u001b[0m in \u001b[0;36mcosine_similarity\u001b[0;34m(v, w)\u001b[0m\n\u001b[1;32m      1\u001b[0m \u001b[1;32mdef\u001b[0m \u001b[0mcosine_similarity\u001b[0m\u001b[1;33m(\u001b[0m\u001b[0mv\u001b[0m\u001b[1;33m,\u001b[0m\u001b[0mw\u001b[0m\u001b[1;33m)\u001b[0m\u001b[1;33m:\u001b[0m\u001b[1;33m\u001b[0m\u001b[0m\n\u001b[0;32m----> 2\u001b[0;31m     \u001b[1;32mreturn\u001b[0m \u001b[0mdot\u001b[0m\u001b[1;33m(\u001b[0m\u001b[0mv\u001b[0m\u001b[1;33m,\u001b[0m\u001b[0mw\u001b[0m\u001b[1;33m)\u001b[0m\u001b[1;33m/\u001b[0m\u001b[0mmath\u001b[0m\u001b[1;33m.\u001b[0m\u001b[0msqrt\u001b[0m\u001b[1;33m(\u001b[0m\u001b[0mdot\u001b[0m\u001b[1;33m(\u001b[0m\u001b[0mv\u001b[0m\u001b[1;33m,\u001b[0m\u001b[0mv\u001b[0m\u001b[1;33m)\u001b[0m\u001b[1;33m*\u001b[0m\u001b[0mdot\u001b[0m\u001b[1;33m(\u001b[0m\u001b[0mw\u001b[0m\u001b[1;33m,\u001b[0m\u001b[0mw\u001b[0m\u001b[1;33m)\u001b[0m\u001b[1;33m)\u001b[0m\u001b[1;33m\u001b[0m\u001b[0m\n\u001b[0m\u001b[1;32m      3\u001b[0m \u001b[1;33m\u001b[0m\u001b[0m\n\u001b[1;32m      4\u001b[0m unique_interests=sorted(list({interest\n\u001b[1;32m      5\u001b[0m                              \u001b[1;32mfor\u001b[0m \u001b[0muser_interests\u001b[0m \u001b[1;32min\u001b[0m \u001b[0musers_interests\u001b[0m\u001b[1;33m\u001b[0m\u001b[0m\n",
      "\u001b[0;31mNameError\u001b[0m: global name 'dot' is not defined"
     ]
    }
   ],
   "source": [
    "def cosine_similarity(v,w):\n",
    "    return dot(v,w)/math.sqrt(dot(v,v)*dot(w,w))\n",
    "\n",
    "unique_interests=sorted(list({interest\n",
    "                             for user_interests in users_interests\n",
    "                             for interest in user_interests}))\n",
    "\n",
    "def make_user_interest_vector(user_interests):\n",
    "    return [1 if interest in user_interests else 0\n",
    "           for interest in unique_interests]\n",
    "\n",
    "user_interest_matrix=map(make_user_interest_vector,users_interests)\n",
    "\n",
    "user_similarities=[[cosine_similarity(interest_vector_i,interest_vector_j)\n",
    "                   for interest_vector_j in user_interest_matrix]\n",
    "                  for interest_vector_i in user_interest_matrix]\n",
    "\n",
    "\n",
    "def most_similar_users_to(user_id):\n",
    "    pairs=[(other_user_id,similarity)\n",
    "          for other_user_id,similarity in enumerate(user_similarities[user_id])\n",
    "          if user_id != other_user_id and similarity>0]\n",
    "    \n",
    "    return sorted(pairs,key=lambda (_,similarity):similarity,reverse=True)\n",
    "\n",
    "\n",
    "def user_based_suggestions(user_id,include_current_interests=False):\n",
    "    suggestions=defaultdict(float)\n",
    "    for other_user_id,similarity in most_similar_users_to(user_id):\n",
    "        for interest in users_interests[other_user_id]:\n",
    "            suggestions[interest]+=similarity\n",
    "    suggestions=sorted(suggestions.items(),\n",
    "                      key=lambda(_,weight):weight,reverse=True)\n",
    "    \n",
    "    if include_current_interests:\n",
    "        return suggestions\n",
    "    else:\n",
    "        return [(suggestion,weight)\n",
    "               for suggestion,weight in suggestions\n",
    "               if suggestion not in users_interests[user_id]]\n",
    "    \n"
   ]
  },
  {
   "cell_type": "code",
   "execution_count": null,
   "metadata": {
    "collapsed": true
   },
   "outputs": [],
   "source": [
    "#item based\n",
    "\n",
    "interest_user_matrix=[[user_interest_vector[j]\n",
    "                      for user_interest_vector in user_interest_matrix\n",
    "                      for j, _ in enumerate(unique_interests)]]\n",
    "\n",
    "interest_similarities=[[cosine_similarity(user_vector_i,user_vector_j)\n",
    "                       for user_vector_j in interest_user_matrix]\n",
    "                      for user_vector_i in interest_user_matrix]\n",
    "\n",
    "def most_similar_interests_to(interest_id):\n",
    "    similarities=interest_similarities[interest_id]\n",
    "    pairs=[(unique_interests[other_interest_id],similarity)\n",
    "           for other_interest_id,similarity in enumerate(similarities)\n",
    "           if interest_id !=other_interest_id and similarity>0]\n",
    "    \n",
    "    return sorted(pairs,key=lambda (_,similarity): similarity, reverse=True)\n",
    "\n",
    "def item_based_suggestions(user_id,include_current_interests=False):\n",
    "    suggestions=defaultdict(float)\n",
    "    user_interest_vector=user_interest_matrix[user_id]\n",
    "    for interest_id,is_interested in enumerate(user_interest_vector):\n",
    "        if is_interested==1:\n",
    "            similar_interests=most_similar_interests_to(interest_id)\n",
    "            for interest,similarity in similar_interests:\n",
    "                suggestions[interest]+=similarity\n",
    "    suggestions=sorted(suggestions.items(),key=lambda (_,similarity):similarity,reverse=True)\n",
    "    \n",
    "    if include_current_interests:\n",
    "        return suggestions\n",
    "    else:\n",
    "        return [(suggestion,weight)\n",
    "               for suggestion,weight in suggestions\n",
    "               if suggestion not in users_interests[user_id]]\n",
    "\n"
   ]
  }
 ],
 "metadata": {
  "anaconda-cloud": {},
  "kernelspec": {
   "display_name": "Python [conda root]",
   "language": "python",
   "name": "conda-root-py"
  },
  "language_info": {
   "codemirror_mode": {
    "name": "ipython",
    "version": 2
   },
   "file_extension": ".py",
   "mimetype": "text/x-python",
   "name": "python",
   "nbconvert_exporter": "python",
   "pygments_lexer": "ipython2",
   "version": "2.7.12"
  }
 },
 "nbformat": 4,
 "nbformat_minor": 1
}
