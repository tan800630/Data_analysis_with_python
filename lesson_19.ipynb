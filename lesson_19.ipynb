{
 "cells": [
  {
   "cell_type": "code",
   "execution_count": 1,
   "metadata": {
    "collapsed": true
   },
   "outputs": [],
   "source": [
    "import math,random\n",
    "from matplotlib import pyplot as plt\n",
    "\n",
    "#clustering\n",
    "#需要第四章的線性代數函數\n",
    "\n",
    "class KMeans:\n",
    "    def __init__(self,k):\n",
    "        self.k=k\n",
    "        self.means=None\n",
    "        \n",
    "    def classify(self,input):\n",
    "        return min(range(self.k),\n",
    "                  key=lambda i:squared_distance(input,self.means[i]))\n",
    "    \n",
    "    def train(self,inputs):\n",
    "        self.means=random.sample(inputs,self.k)\n",
    "        assignments=None\n",
    "        \n",
    "        while True:\n",
    "            new_assignments=map(self.classify,inputs)\n",
    "            \n",
    "            if assignments==new_assignments:\n",
    "                return\n",
    "            assignments=new_assignments\n",
    "            \n",
    "            for i in range(self.k):\n",
    "                i_points=[p for p, a in zap(inputs,assignments) if a==1]\n",
    "                \n",
    "                if i_points:\n",
    "                    self.means[i]=vector_mean(i_points)\n"
   ]
  },
  {
   "cell_type": "code",
   "execution_count": 2,
   "metadata": {
    "collapsed": false
   },
   "outputs": [
    {
     "ename": "NameError",
     "evalue": "name 'inputs' is not defined",
     "output_type": "error",
     "traceback": [
      "\u001b[0;31m---------------------------------------------------------------------------\u001b[0m",
      "\u001b[0;31mNameError\u001b[0m                                 Traceback (most recent call last)",
      "\u001b[0;32m<ipython-input-2-36d295b32e3d>\u001b[0m in \u001b[0;36m<module>\u001b[0;34m()\u001b[0m\n\u001b[1;32m      1\u001b[0m \u001b[0mrandom\u001b[0m\u001b[1;33m.\u001b[0m\u001b[0mseed\u001b[0m\u001b[1;33m(\u001b[0m\u001b[1;36m0\u001b[0m\u001b[1;33m)\u001b[0m\u001b[1;33m\u001b[0m\u001b[0m\n\u001b[1;32m      2\u001b[0m \u001b[0mclusterer\u001b[0m\u001b[1;33m=\u001b[0m\u001b[0mKMeans\u001b[0m\u001b[1;33m(\u001b[0m\u001b[1;36m3\u001b[0m\u001b[1;33m)\u001b[0m\u001b[1;33m\u001b[0m\u001b[0m\n\u001b[0;32m----> 3\u001b[0;31m \u001b[0mclusterer\u001b[0m\u001b[1;33m.\u001b[0m\u001b[0mtrain\u001b[0m\u001b[1;33m(\u001b[0m\u001b[0minputs\u001b[0m\u001b[1;33m)\u001b[0m\u001b[1;33m\u001b[0m\u001b[0m\n\u001b[0m\u001b[1;32m      4\u001b[0m \u001b[1;32mprint\u001b[0m \u001b[0mclusterer\u001b[0m\u001b[1;33m.\u001b[0m\u001b[0mmeans\u001b[0m\u001b[1;33m\u001b[0m\u001b[0m\n\u001b[1;32m      5\u001b[0m \u001b[1;33m\u001b[0m\u001b[0m\n",
      "\u001b[0;31mNameError\u001b[0m: name 'inputs' is not defined"
     ]
    }
   ],
   "source": [
    "random.seed(0)\n",
    "clusterer=KMeans(3)\n",
    "clusterer.train(inputs)\n",
    "print clusterer.means\n",
    "\n",
    "\n",
    "def squared_clustering_errors(inputs,k):\n",
    "    clusterer=KMeans(k)\n",
    "    clusterer.train(inputs)\n",
    "    means=clusterer.means\n",
    "    assignments=map(clusterer.classify,inputs)\n",
    "    \n",
    "    return sum(squared_distance(input,means[cluster])\n",
    "              for input,cluster in zip(inputs,assignments))\n",
    "\n",
    "ks=range(1,len(inputs)+1)\n",
    "errors=[squared_clustering_errors(inputs,k) for k in ks]\n",
    "\n",
    "plt.plot(ks,errors)\n",
    "plt.xticks(ks)\n",
    "plt.xlabel(\"k\")\n",
    "plt.ylabel(\"total squared error\")\n",
    "plt.title(\"Total Error vs. # of Clusters\")\n",
    "plt.show()\n"
   ]
  },
  {
   "cell_type": "code",
   "execution_count": 3,
   "metadata": {
    "collapsed": false
   },
   "outputs": [
    {
     "ename": "IOError",
     "evalue": "[Errno 2] No such file or directory: 'C:\\\\images\\\\image.png'",
     "output_type": "error",
     "traceback": [
      "\u001b[0;31m---------------------------------------------------------------------------\u001b[0m",
      "\u001b[0;31mIOError\u001b[0m                                   Traceback (most recent call last)",
      "\u001b[0;32m<ipython-input-3-97025318c47f>\u001b[0m in \u001b[0;36m<module>\u001b[0;34m()\u001b[0m\n\u001b[1;32m      1\u001b[0m \u001b[0mpath_to_png_file\u001b[0m\u001b[1;33m=\u001b[0m\u001b[1;34mr\"C:\\images\\image.png\"\u001b[0m\u001b[1;33m\u001b[0m\u001b[0m\n\u001b[1;32m      2\u001b[0m \u001b[1;32mimport\u001b[0m \u001b[0mmatplotlib\u001b[0m\u001b[1;33m.\u001b[0m\u001b[0mimage\u001b[0m \u001b[1;32mas\u001b[0m \u001b[0mmpimg\u001b[0m\u001b[1;33m\u001b[0m\u001b[0m\n\u001b[0;32m----> 3\u001b[0;31m \u001b[0mimg\u001b[0m\u001b[1;33m=\u001b[0m\u001b[0mmpimg\u001b[0m\u001b[1;33m.\u001b[0m\u001b[0mimread\u001b[0m\u001b[1;33m(\u001b[0m\u001b[0mpath_to_png_file\u001b[0m\u001b[1;33m)\u001b[0m\u001b[1;33m\u001b[0m\u001b[0m\n\u001b[0m\u001b[1;32m      4\u001b[0m \u001b[1;33m\u001b[0m\u001b[0m\n\u001b[1;32m      5\u001b[0m \u001b[0mtop_row\u001b[0m\u001b[1;33m=\u001b[0m\u001b[0mimg\u001b[0m\u001b[1;33m[\u001b[0m\u001b[1;36m0\u001b[0m\u001b[1;33m]\u001b[0m\u001b[1;33m\u001b[0m\u001b[0m\n",
      "\u001b[0;32mC:\\Users\\tan\\Anaconda2\\lib\\site-packages\\matplotlib\\image.pyc\u001b[0m in \u001b[0;36mimread\u001b[0;34m(fname, format)\u001b[0m\n\u001b[1;32m   1244\u001b[0m             \u001b[1;32mreturn\u001b[0m \u001b[0mhandler\u001b[0m\u001b[1;33m(\u001b[0m\u001b[0mfd\u001b[0m\u001b[1;33m)\u001b[0m\u001b[1;33m\u001b[0m\u001b[0m\n\u001b[1;32m   1245\u001b[0m         \u001b[1;32melse\u001b[0m\u001b[1;33m:\u001b[0m\u001b[1;33m\u001b[0m\u001b[0m\n\u001b[0;32m-> 1246\u001b[0;31m             \u001b[1;32mwith\u001b[0m \u001b[0mopen\u001b[0m\u001b[1;33m(\u001b[0m\u001b[0mfname\u001b[0m\u001b[1;33m,\u001b[0m \u001b[1;34m'rb'\u001b[0m\u001b[1;33m)\u001b[0m \u001b[1;32mas\u001b[0m \u001b[0mfd\u001b[0m\u001b[1;33m:\u001b[0m\u001b[1;33m\u001b[0m\u001b[0m\n\u001b[0m\u001b[1;32m   1247\u001b[0m                 \u001b[1;32mreturn\u001b[0m \u001b[0mhandler\u001b[0m\u001b[1;33m(\u001b[0m\u001b[0mfd\u001b[0m\u001b[1;33m)\u001b[0m\u001b[1;33m\u001b[0m\u001b[0m\n\u001b[1;32m   1248\u001b[0m     \u001b[1;32melse\u001b[0m\u001b[1;33m:\u001b[0m\u001b[1;33m\u001b[0m\u001b[0m\n",
      "\u001b[0;31mIOError\u001b[0m: [Errno 2] No such file or directory: 'C:\\\\images\\\\image.png'"
     ]
    }
   ],
   "source": [
    "path_to_png_file=r\"C:\\images\\image.png\"\n",
    "import matplotlib.image as mpimg\n",
    "img=mpimg.imread(path_to_png_file)\n",
    "\n",
    "top_row=img[0]\n",
    "top_left_pixel=top_row[0]\n",
    "red,green,blue=top_left_pixel\n",
    "\n",
    "pixels=[pixel for row in img for pixel in row]\n",
    "\n",
    "clusterer=KMeans(5)\n",
    "clusterer.train(pixels)\n",
    "\n",
    "def recolor(pixel):\n",
    "    cluster=clusterer.classify(pixel)\n",
    "    return clusterer.means[cluster]\n",
    "\n",
    "new_img=[[recolor(pixel) for pixel in row]\n",
    "        for row in img]"
   ]
  },
  {
   "cell_type": "code",
   "execution_count": null,
   "metadata": {
    "collapsed": true
   },
   "outputs": [],
   "source": [
    "#bottom-up clustering\n",
    "\n",
    "leaf1=([10,20],)\n",
    "leaf2=([30,-15],)\n",
    "\n",
    "merged=(1,[leaf1,leaf2])\n",
    "\n",
    "def is_leaf(cluster):\n",
    "    return len(cluster)==1\n",
    "\n",
    "def get_childern(cluster):\n",
    "    if is_leaf(cluster):\n",
    "        raise TypeError(\"a leaf cluster has no childern\")\n",
    "    else:\n",
    "        return cluster[1]\n",
    "\n",
    "def get_values(cluster):\n",
    "    if is_leaf(cluster):\n",
    "        return cluster\n",
    "    \n",
    "    else:\n",
    "        return [value for child in get_children(cluster)\n",
    "               for value in get_values(child)]\n",
    "\n",
    "\n",
    "def cluster_distance(cluster1,cluster2,distance_agg=min):\n",
    "    return distance_agg([distance(input1,input2)\n",
    "                        for input1 in get_values(cluster1)\n",
    "                        for input2 in get_values(cluster2)])\n",
    "\n",
    "def get_merge_order(cluster):\n",
    "    if is_leaf(cluster):\n",
    "        return float('inf')\n",
    "    else:\n",
    "        return cluster[0]\n",
    "\n",
    "def bottom_up_cluster(inputs,distance_agg=min):\n",
    "    clusters=[(input,) for input in inputs]\n",
    "    \n",
    "    while len(clusters)>1:\n",
    "        c1,c2=min([(cluster1,cluster2)\n",
    "                 for i, cluster1 in enumerate(clusters)\n",
    "                 for cluster2 in clusters[:i]],\n",
    "                 key=lambda(x,y):cluster_distance(x,y,distance_agg))\n",
    "        clusters=[c for c in clusters if c != c1 and c!= c2]\n",
    "        \n",
    "        merged_cluster=(len(clusters),[c1,c2])\n",
    "        cluster.append(merged_cluster)\n",
    "    return clusters[0]\n",
    "\n",
    "#use it\n",
    "base_cluster=bottom_up_cluster(inputs)\n",
    "\n",
    "\n",
    "def generate_clusters(base_cluster,num_clusters):\n",
    "    clusters=[base_cluster]\n",
    "    \n",
    "    while len(clusters)<num_clusters:\n",
    "        next_cluster=min(clusters,key=get_merge_order)\n",
    "        \n",
    "        clusters=[c for c in clusters if c != next_cluster]\n",
    "        clusters.extend(get_children(next_cluster))\n",
    "    return clusters\n",
    "\n",
    "three_clusters=[get_values(cluster)\n",
    "               for cluster in generate_clusters(base_cluster,3)]\n",
    "\n",
    "#ploting\n",
    "for i, cluster,marker,color in zip([1,2,3],\n",
    "                                  three_clusters,\n",
    "                                  ['D','o','*'],\n",
    "                                  ['r','g','b']):\n",
    "    xs,ys=zip(*cluster)\n",
    "    plt.scatter(xs,ys,color=color,marker=marker)\n",
    "    \n",
    "    x,y=vector_mean(cluster)\n",
    "    plt.plot(x,y,marker='$'+str(i)+'$',color='black')\n",
    "    \n",
    "plt.title(\"User Locations -- 3 Bottom-Up Clusters,Min\")\n",
    "plt.xlabel(\"blocks east of city center\")\n",
    "plt.ylabel(\"blocks north of cilty center\")\n",
    "plt.show()\n",
    "\n"
   ]
  }
 ],
 "metadata": {
  "kernelspec": {
   "display_name": "Python [conda root]",
   "language": "python",
   "name": "conda-root-py"
  },
  "language_info": {
   "codemirror_mode": {
    "name": "ipython",
    "version": 2
   },
   "file_extension": ".py",
   "mimetype": "text/x-python",
   "name": "python",
   "nbconvert_exporter": "python",
   "pygments_lexer": "ipython2",
   "version": "2.7.12"
  }
 },
 "nbformat": 4,
 "nbformat_minor": 1
}
