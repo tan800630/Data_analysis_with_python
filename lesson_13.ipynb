{
 "cells": [
  {
   "cell_type": "code",
   "execution_count": 9,
   "metadata": {
    "collapsed": true
   },
   "outputs": [],
   "source": [
    "import collections,math\n",
    "\n",
    "#單純貝氏模型\n",
    "\n",
    "def tokenize(message):\n",
    "    message=message.lower()\n",
    "    all_words= re.findall(\"[a-z0-9]+\",message)\n",
    "    return set(all_words) #移除重複\n",
    "\n",
    "def count_words(training_set):\n",
    "    counts = collections.defaultdict(lambda: [0,0])\n",
    "    for message, is_spam in training_set:\n",
    "        for word in tokenize(message):\n",
    "            counts[word][0 if is_spam else 1] +=1\n",
    "    return counts\n",
    "\n",
    "def word_probabilities(counts,total_spams,total_non_spams,k=0.5):\n",
    "    ##轉換成 w,p(w|spam) and p(w|~spam)\n",
    "    \n",
    "    return [(w,\n",
    "             (spam+k)/(total_spams+2*k),\n",
    "             (non_spam+k)/(total_non_spams+2*k))\n",
    "           for w,(spam,non_spam) in counts.iteritems()]\n",
    "\n",
    "def spam_probability(word_probs,message):\n",
    "    message_words=tokenize(message)\n",
    "    log_prob_if_spam=log_prob_if_not_spam=0.0\n",
    "    \n",
    "    for word,prob_if_spam,prob_if_not_spam in word_probs:\n",
    "        if word in message_words:\n",
    "            log_prob_if_spam+=math.log(prob_if_spam)\n",
    "            log_prob_if_not_spam+=math.log(prob_if_not_spam)\n",
    "            \n",
    "        else:\n",
    "            log_prob_if_spam+=math.log(1.0-prob_if_spam)\n",
    "            log_prob_if_not_spam+=math.log(1.0-prob_if_not_spam)\n",
    "    \n",
    "    prob_if_spam=math.exp(log_prob_if_spam)\n",
    "    prob_if_not_spam=math.exp(log_prob_if_not_spam)\n",
    "    return prob_if_spam / (prob_if_spam+prob_if_not_spam)\n",
    "\n",
    "\n",
    "#貝式分類器\n",
    "class NaiveBayesClassifier:\n",
    "    def __init__(self,k=0.5):\n",
    "        self.k=k\n",
    "        self.word_probs=[]\n",
    "        \n",
    "    def train(self,training_set):\n",
    "        \n",
    "        num_spams=len([is_spam\n",
    "                       for message, is_spam in training_set\n",
    "                       if is_spam])\n",
    "        num_non_spams=len(training_set)- num_spams\n",
    "        \n",
    "        word_counts=count_words(training_set)\n",
    "        self.word_probs=word_probabilities(word_counts,\n",
    "                                          num_spams,\n",
    "                                          num_non_spams,\n",
    "                                          self.k)\n",
    "    def classify(self,message):\n",
    "        return spam_probability(self.word_probs,message)\n",
    "\n",
    "##\n"
   ]
  },
  {
   "cell_type": "code",
   "execution_count": 2,
   "metadata": {
    "collapsed": false
   },
   "outputs": [],
   "source": [
    "import glob,re\n",
    "\n",
    "path= r\"C:\\Users\\tan\\Documents\\Spam\\*\\*\"\n",
    "\n",
    "data=[]\n",
    "\n",
    "for fn in glob.glob(path):\n",
    "    is_spam=\"ham\" not in fn\n",
    "\n",
    "    with open(fn,'r') as file:\n",
    "        for line in file:\n",
    "            if line.startswith(\"Subject:\"):\n",
    "                subject = re.sub(r\"^Subject: \",\"\",line).strip()\n",
    "                data.append((subject,is_spam))\n"
   ]
  },
  {
   "cell_type": "code",
   "execution_count": 15,
   "metadata": {
    "collapsed": false
   },
   "outputs": [
    {
     "name": "stdout",
     "output_type": "stream",
     "text": [
      "Counter({(False, False): 709, (True, True): 99, (True, False): 40, (False, True): 28})\n"
     ]
    }
   ],
   "source": [
    "import random\n",
    "from collections import Counter\n",
    "\n",
    "#第十一章的func\n",
    "def split_data(data,prob):\n",
    "    results=[],[]\n",
    "    for row in data:\n",
    "        results[0 if random.random()<prob else 1].append(row)\n",
    "    return results\n",
    "\n",
    "\n",
    "random.seed(0)\n",
    "train_data,test_data=split_data(data,0.75)\n",
    "\n",
    "classifier=NaiveBayesClassifier()\n",
    "classifier.train(train_data)\n",
    "\n",
    "#\n",
    "classified=[(subject,is_spam,classifier.classify(subject))\n",
    "           for subject,is_spam in test_data]\n",
    "\n",
    "\n",
    "counts=Counter((is_spam,spam_probability>0.5)\n",
    "              for _,is_spam,spam_probability in classified)\n",
    "\n",
    "print counts"
   ]
  },
  {
   "cell_type": "code",
   "execution_count": 18,
   "metadata": {
    "collapsed": false
   },
   "outputs": [
    {
     "name": "stdout",
     "output_type": "stream",
     "text": [
      "[('2000+ year old Greek computer reinterpreted', False, 0.9849593308072281), ('What to look for in your next smart phone (Tech Update)', False, 0.9880531102637597), ('Your NEW \"Leg-Up\" on Wall Street...', False, 0.9919460757537283), ('[ILUG-Social] Re: Important - reenactor insurance needed', False, 0.9995884053884736), ('[ILUG-Social] Re: Important - reenactor insurance needed', False, 0.9995884053884736)]\n",
      "\n",
      "[('Re: girls', True, 0.001076252533943303), ('Introducing Chase Platinum for Students with a 0% Introductory APR', True, 0.0013774569702223898), ('.Message report from your contact page....//ytu855 rkq', True, 0.0016561226234365182), ('Testing a system, please delete', True, 0.0029503997104894856), ('Never pay for the goodz again (8SimUgQ)', True, 0.006476931884025096)]\n",
      "\n",
      "[('adv', 0.026027397260273973, 0.00022893772893772894), ('year', 0.028767123287671233, 0.00022893772893772894), ('sale', 0.031506849315068496, 0.00022893772893772894), ('systemworks', 0.036986301369863014, 0.00022893772893772894), ('money', 0.03972602739726028, 0.00022893772893772894)]\n",
      "\n",
      "[('spambayes', 0.0013698630136986301, 0.04601648351648352), ('users', 0.0013698630136986301, 0.036401098901098904), ('razor', 0.0013698630136986301, 0.030906593406593408), ('zzzzteana', 0.0013698630136986301, 0.029075091575091576), ('sadev', 0.0013698630136986301, 0.026785714285714284)]\n"
     ]
    }
   ],
   "source": [
    "classified.sort(key=lambda row:row[2])\n",
    "\n",
    "spammiest_hams=filter(lambda row: not row[1], classified)[-5:]\n",
    "\n",
    "hammiest_spams=filter(lambda row:row[1],classified)[:5]\n",
    "\n",
    "print spammiest_hams\n",
    "print ###\n",
    "print hammiest_spams\n",
    "\n",
    "\n",
    "def p_spam_given_word(word_prob):\n",
    "    \n",
    "    word,prob_if_spam,prob_if_not_spam=word_prob\n",
    "    return prob_if_spam/(prob_if_spam+prob_if_not_spam)\n",
    "\n",
    "words=sorted(classifier.word_probs,key=p_spam_given_word)\n",
    "\n",
    "spammiest_words=words[-5:]\n",
    "hammiest_words=words[:5]\n",
    "\n",
    "print ###\n",
    "print spammiest_words\n",
    "print ###\n",
    "print hammiest_words"
   ]
  },
  {
   "cell_type": "code",
   "execution_count": 19,
   "metadata": {
    "collapsed": true
   },
   "outputs": [],
   "source": [
    "##改善\n",
    "## 1. 設定出現詞頻上下限\n",
    "## 2. 加入判斷文法的stemmer    ex. Porter stemmer\n",
    "## scikit-learn 裡有BernoulliNB模型"
   ]
  },
  {
   "cell_type": "code",
   "execution_count": null,
   "metadata": {
    "collapsed": true
   },
   "outputs": [],
   "source": []
  }
 ],
 "metadata": {
  "anaconda-cloud": {},
  "kernelspec": {
   "display_name": "Python [conda root]",
   "language": "python",
   "name": "conda-root-py"
  },
  "language_info": {
   "codemirror_mode": {
    "name": "ipython",
    "version": 2
   },
   "file_extension": ".py",
   "mimetype": "text/x-python",
   "name": "python",
   "nbconvert_exporter": "python",
   "pygments_lexer": "ipython2",
   "version": "2.7.12"
  }
 },
 "nbformat": 4,
 "nbformat_minor": 1
}
