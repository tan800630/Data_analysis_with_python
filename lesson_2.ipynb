{
 "cells": [
  {
   "cell_type": "code",
   "execution_count": 1,
   "metadata": {
    "collapsed": false
   },
   "outputs": [
    {
     "name": "stdout",
     "output_type": "stream",
     "text": [
      "1\n",
      "1\n",
      "2\n",
      "2\n",
      "3\n",
      "3\n",
      "4\n",
      "4\n",
      "5\n",
      "5\n",
      "6\n",
      "1\n",
      "2\n",
      "1\n",
      "3\n",
      "2\n",
      "4\n",
      "3\n",
      "5\n",
      "4\n",
      "6\n",
      "5\n",
      "7\n",
      "2\n",
      "3\n",
      "1\n",
      "4\n",
      "2\n",
      "5\n",
      "3\n",
      "6\n",
      "4\n",
      "7\n",
      "5\n",
      "8\n",
      "3\n",
      "4\n",
      "1\n",
      "5\n",
      "2\n",
      "6\n",
      "3\n",
      "7\n",
      "4\n",
      "8\n",
      "5\n",
      "9\n",
      "4\n",
      "5\n",
      "1\n",
      "6\n",
      "2\n",
      "7\n",
      "3\n",
      "8\n",
      "4\n",
      "9\n",
      "5\n",
      "10\n",
      "5\n",
      "done looping\n"
     ]
    }
   ],
   "source": [
    "for i in [1,2,3,4,5]:\n",
    "    print i\n",
    "    for j in [1,2,3,4,5]:\n",
    "        print j\n",
    "        print i+j\n",
    "    print i\n",
    "print \"done looping\""
   ]
  },
  {
   "cell_type": "code",
   "execution_count": 5,
   "metadata": {
    "collapsed": false
   },
   "outputs": [
    {
     "name": "stdout",
     "output_type": "stream",
     "text": [
      "2.5\n",
      "2\n"
     ]
    }
   ],
   "source": [
    "two_plus_three=2+\\\n",
    "3\n",
    "\n",
    "import re\n",
    "my_regex=re.compile(\"[0-9]+\",re.I)\n",
    "\n",
    "from collections import defaultdict,Counter\n",
    "lookup=defaultdict(int)\n",
    "my_counter=Counter()\n",
    "\n",
    "from __future__ import division\n",
    "\n",
    "print(5/2)\n",
    "print(5//2)"
   ]
  },
  {
   "cell_type": "code",
   "execution_count": 11,
   "metadata": {
    "collapsed": false
   },
   "outputs": [
    {
     "name": "stdout",
     "output_type": "stream",
     "text": [
      "cannot divide by zero\n"
     ]
    }
   ],
   "source": [
    "try:\n",
    "    print 0/0\n",
    "except ZeroDivisionError:\n",
    "        print \"cannot divide by zero\""
   ]
  },
  {
   "cell_type": "code",
   "execution_count": 17,
   "metadata": {
    "collapsed": false
   },
   "outputs": [
    {
     "name": "stdout",
     "output_type": "stream",
     "text": [
      "0.1\n"
     ]
    }
   ],
   "source": [
    "integer_list=[1,2,3]\n",
    "heterogeneous_list=[\"string\",0.1,True]\n",
    "list_of_lists=[integer_list,heterogeneous_list,[]]\n",
    "\n",
    "list_length=len(integer_list)\n",
    "list_sum=sum(integer_list)\n",
    "\n",
    "print(list_of_lists[1][1])"
   ]
  },
  {
   "cell_type": "code",
   "execution_count": 18,
   "metadata": {
    "collapsed": true
   },
   "outputs": [],
   "source": [
    "x=range(10)\n",
    "zero=x[0]\n",
    "nine=x[-1]\n",
    "\n",
    "first_three=x[:3]\n",
    "three_to_end=x[3:]\n",
    "without_first_and_last=x[1:-1]\n",
    "\n",
    "x.extend([11,12,13])\n",
    "x.append(14)\n",
    "\n",
    "y,z=[1,2]  # unequal size => ValueError\n",
    "_,w=[3,4]"
   ]
  },
  {
   "cell_type": "code",
   "execution_count": 20,
   "metadata": {
    "collapsed": false
   },
   "outputs": [
    {
     "name": "stdout",
     "output_type": "stream",
     "text": [
      "cannot modify a tuple\n",
      "(5, 6)\n",
      "15 50\n"
     ]
    }
   ],
   "source": [
    "######## about tuple #######\n",
    "\n",
    "my_tuple=(1,2)\n",
    "other_tuple=3,4\n",
    "\n",
    "try:\n",
    "    my_tuple[1]=3\n",
    "except TypeError:\n",
    "    print \"cannot modify a tuple\"\n",
    "\n",
    "def sum_and_product(x,y):\n",
    "    return (x+y),(x*y)\n",
    "\n",
    "sp = sum_and_product(2,3)\n",
    "print sp\n",
    "s,p=sum_and_product(5,10)\n",
    "print s,p"
   ]
  },
  {
   "cell_type": "code",
   "execution_count": 30,
   "metadata": {
    "collapsed": false
   },
   "outputs": [
    {
     "ename": "SyntaxError",
     "evalue": "unexpected character after line continuation character (<ipython-input-30-a41c5f24835f>, line 30)",
     "output_type": "error",
     "traceback": [
      "\u001b[0;36m  File \u001b[0;32m\"<ipython-input-30-a41c5f24835f>\"\u001b[0;36m, line \u001b[0;32m30\u001b[0m\n\u001b[0;31m    print \\\\t\u001b[0m\n\u001b[0m             ^\u001b[0m\n\u001b[0;31mSyntaxError\u001b[0m\u001b[0;31m:\u001b[0m unexpected character after line continuation character\n"
     ]
    }
   ],
   "source": [
    "########## about dict #########\n",
    "\n",
    "empty_dict={}\n",
    "empty_dict2=dict()\n",
    "grades={\"Joel\":80,\"Tim\":95}\n",
    "\n",
    "joels_grade=grades[\"Joel\"]\n",
    "print joels_grade\n",
    "\n",
    "try:\n",
    "    kates_grade=grades[\"Kate\"]\n",
    "except KeyError:\n",
    "    print \"no grade for Kate!\"\n",
    "\n",
    "#先測試dict中有無此key\n",
    "joel_has_grade=\"Joel\" in grades\n",
    "\n",
    "joels_grade=grades.get(\"Joel\",0) #沒有的話就填0  預設是None\n",
    "\n",
    "grades[\"Kate\"]=100   #添加新的key-value pair\n",
    "\n",
    "tweet={\n",
    "    \"user\":\"joelgrus\",\n",
    "    \"text\":\"Data Science is Awesome\",\n",
    "    \"retweet_Count\":100,\n",
    "    \"hashtags\": [\"#data\",\"#science\",\"#datascience\",\"#awesome\",\"#yolo\"]\n",
    "}\n",
    "\n",
    "print tweet.keys()\n",
    "print tweet.values()\n",
    "print tweet.items()\n",
    "\n",
    "print(\"user\" in tweet)"
   ]
  },
  {
   "cell_type": "code",
   "execution_count": 31,
   "metadata": {
    "collapsed": false
   },
   "outputs": [
    {
     "ename": "NameError",
     "evalue": "name 'document' is not defined",
     "output_type": "error",
     "traceback": [
      "\u001b[0;31m---------------------------------------------------------------------------\u001b[0m",
      "\u001b[0;31mNameError\u001b[0m                                 Traceback (most recent call last)",
      "\u001b[0;32m<ipython-input-31-4fdadf9b623b>\u001b[0m in \u001b[0;36m<module>\u001b[0;34m()\u001b[0m\n\u001b[1;32m      2\u001b[0m \u001b[1;33m\u001b[0m\u001b[0m\n\u001b[1;32m      3\u001b[0m \u001b[0mword_counts\u001b[0m\u001b[1;33m=\u001b[0m\u001b[1;33m{\u001b[0m\u001b[1;33m}\u001b[0m\u001b[1;33m\u001b[0m\u001b[0m\n\u001b[0;32m----> 4\u001b[0;31m \u001b[1;32mfor\u001b[0m \u001b[0mword\u001b[0m \u001b[1;32min\u001b[0m \u001b[0mdocument\u001b[0m\u001b[1;33m:\u001b[0m\u001b[1;33m\u001b[0m\u001b[0m\n\u001b[0m\u001b[1;32m      5\u001b[0m     \u001b[1;32mif\u001b[0m \u001b[0mword\u001b[0m \u001b[1;32min\u001b[0m \u001b[0mword_counts\u001b[0m\u001b[1;33m:\u001b[0m\u001b[1;33m\u001b[0m\u001b[0m\n\u001b[1;32m      6\u001b[0m         \u001b[0mword_counts\u001b[0m\u001b[1;33m[\u001b[0m\u001b[0mword\u001b[0m\u001b[1;33m]\u001b[0m\u001b[1;33m+=\u001b[0m\u001b[1;36m1\u001b[0m\u001b[1;33m\u001b[0m\u001b[0m\n",
      "\u001b[0;31mNameError\u001b[0m: name 'document' is not defined"
     ]
    }
   ],
   "source": [
    "## default dict ##\n",
    "\n",
    "word_counts={}\n",
    "for word in document:\n",
    "    if word in word_counts:\n",
    "        word_counts[word]+=1\n",
    "    else:\n",
    "        word_counts[word]=1\n",
    "\n",
    "# way2\n",
    "word_counts={}\n",
    "for word in document:\n",
    "    try:\n",
    "        word_counts[word]+=1\n",
    "    except KeyError:\n",
    "        word_counts[word]=1\n",
    "\n",
    "        \n",
    "from collections import defaultdict\n",
    "\n",
    "# way3\n",
    "word_counts=defaultdict(int) #int生成0\n",
    "for word in document:\n",
    "    word_counts[word]+=1\n",
    "\n",
    "# defaultdict(list) 生成空列表\n",
    "# defaultdict(dict) 空字典\n",
    "# defaultdict(lambda: [0,0]) 生成 [0,0]"
   ]
  },
  {
   "cell_type": "code",
   "execution_count": 32,
   "metadata": {
    "collapsed": false
   },
   "outputs": [
    {
     "ename": "SyntaxError",
     "evalue": "invalid syntax (<ipython-input-32-a186d46387fd>, line 7)",
     "output_type": "error",
     "traceback": [
      "\u001b[0;36m  File \u001b[0;32m\"<ipython-input-32-a186d46387fd>\"\u001b[0;36m, line \u001b[0;32m7\u001b[0m\n\u001b[0;31m    for word,count in word_counts.most_common(10)\u001b[0m\n\u001b[0m                                                 ^\u001b[0m\n\u001b[0;31mSyntaxError\u001b[0m\u001b[0;31m:\u001b[0m invalid syntax\n"
     ]
    }
   ],
   "source": [
    "### Counter = table in R\n",
    "\n",
    "from collections import Counter\n",
    "print Counter([0,1,2,0])\n",
    "\n",
    "#輸出最常見的十個字\n",
    "for word,count in word_counts.most_common(10)\n",
    "print word,count\n",
    "\n",
    "\n",
    "\n",
    "### set 不重複的列表###\n",
    "s=set(1)\n",
    "s.add(1)\n",
    "print s\n",
    "\n",
    "s.add(2)\n",
    "s.add(2)\n",
    "print \"length of s =\",len(s)\n",
    "\n",
    "#example 1#\n",
    "stopwords_list=[\"a\",\"an\",\"at\"]+...+[\"yet\",\"you\"]\n",
    "\n",
    "\"zip\" in stopwords_list #慢\n",
    "\n",
    "stopwords_set=set(stopwords_list)\n",
    "\"zip\" in stopwords_set #快\n",
    "\n",
    "#example 2#\n",
    "item_list=[1,2,3,1,2,3]\n",
    "num_items=len(item_list) #6\n",
    "item_set=set(item_list)\n",
    "num_distinct_items=len(item_set) #3\n"
   ]
  },
  {
   "cell_type": "code",
   "execution_count": 1,
   "metadata": {
    "collapsed": false
   },
   "outputs": [
    {
     "ename": "NameError",
     "evalue": "name 'x' is not defined",
     "output_type": "error",
     "traceback": [
      "\u001b[0;31m---------------------------------------------------------------------------\u001b[0m",
      "\u001b[0;31mNameError\u001b[0m                                 Traceback (most recent call last)",
      "\u001b[0;32m<ipython-input-1-300f45396db1>\u001b[0m in \u001b[0;36m<module>\u001b[0;34m()\u001b[0m\n\u001b[1;32m      1\u001b[0m \u001b[1;31m## Control ##\u001b[0m\u001b[1;33m\u001b[0m\u001b[1;33m\u001b[0m\u001b[0m\n\u001b[1;32m      2\u001b[0m \u001b[1;33m\u001b[0m\u001b[0m\n\u001b[0;32m----> 3\u001b[0;31m \u001b[0mparity\u001b[0m\u001b[1;33m=\u001b[0m \u001b[1;34m\"even\"\u001b[0m \u001b[1;32mif\u001b[0m \u001b[0mx\u001b[0m\u001b[1;33m%\u001b[0m\u001b[1;36m2\u001b[0m \u001b[1;33m==\u001b[0m\u001b[1;36m0\u001b[0m \u001b[1;32melse\u001b[0m \u001b[1;34m\"odd\"\u001b[0m\u001b[1;33m\u001b[0m\u001b[0m\n\u001b[0m\u001b[1;32m      4\u001b[0m \u001b[1;33m\u001b[0m\u001b[0m\n\u001b[1;32m      5\u001b[0m \u001b[1;32mfor\u001b[0m \u001b[0mx\u001b[0m \u001b[1;32min\u001b[0m \u001b[0mrange\u001b[0m\u001b[1;33m(\u001b[0m\u001b[1;36m10\u001b[0m\u001b[1;33m)\u001b[0m\u001b[1;33m:\u001b[0m\u001b[1;33m\u001b[0m\u001b[0m\n",
      "\u001b[0;31mNameError\u001b[0m: name 'x' is not defined"
     ]
    }
   ],
   "source": [
    "## Control ##\n",
    "\n",
    "parity= \"even\" if x%2 ==0 else \"odd\"\n",
    "\n",
    "for x in range(10):\n",
    "    if x==3:\n",
    "        countinue\n",
    "    if x==5:\n",
    "        break\n",
    "    print x\n",
    "\n",
    "\n",
    "safe_x=x or 0  #在x=null的時候會回傳0\n",
    "\n",
    "\n",
    "s= som_function_that_returns_a_string()\n",
    "if s: #s為null的話 if不成立，轉入else\n",
    "    first_char=s[0]\n",
    "else:\n",
    "    first_char=\"\" #在s為空集合時回傳\"\"\n",
    "\n"
   ]
  },
  {
   "cell_type": "code",
   "execution_count": 6,
   "metadata": {
    "collapsed": false
   },
   "outputs": [
    {
     "name": "stdout",
     "output_type": "stream",
     "text": [
      "[4, 3, -2, 1]\n",
      "[-2, 1, 3, 4]\n"
     ]
    }
   ],
   "source": [
    "x=[4,1,-2,3]\n",
    "print sorted(x,key=abs,reverse=True)\n",
    "x.sort()\n",
    "print x\n"
   ]
  },
  {
   "cell_type": "code",
   "execution_count": 8,
   "metadata": {
    "collapsed": false
   },
   "outputs": [
    {
     "name": "stdout",
     "output_type": "stream",
     "text": [
      "<generator object lazy_range at 0x000000000407E750>\n"
     ]
    }
   ],
   "source": [
    "square_dict={x:x*x for x in range(5)}\n",
    "\n",
    "zeros=[0 for _ in range(10)]\n",
    "\n",
    "increasing_pairs=[(x,y) for x in range(10) for y in range(x+1,10)]\n",
    "\n",
    "\n",
    "#lazy range\n",
    "def lazy_range(n):\n",
    "    i=0\n",
    "    while i<n:\n",
    "        #傳回i \n",
    "        yield i \n",
    "        i+=1\n",
    "\n",
    "#好處，一次只傳回一個值 (相較於range(10000000)會一次產生大列表\n"
   ]
  },
  {
   "cell_type": "code",
   "execution_count": 10,
   "metadata": {
    "collapsed": false
   },
   "outputs": [
    {
     "name": "stdout",
     "output_type": "stream",
     "text": [
      "True\n"
     ]
    }
   ],
   "source": [
    "### regular expression ###\n",
    "import re\n",
    "\n",
    "print all([\n",
    "        not re.match(\"a\",\"cat\"),\n",
    "        re.search(\"a\",\"cat\"),\n",
    "        3== len(re.split(\"[ab]\",\"carbs\")),  #用a或b來切詞\n",
    "        \"R-D-\"==re.sub(\"[0-9]\",\"-\",\"R2D2\")\n",
    "        ])"
   ]
  },
  {
   "cell_type": "code",
   "execution_count": 15,
   "metadata": {
    "collapsed": false
   },
   "outputs": [
    {
     "name": "stdout",
     "output_type": "stream",
     "text": [
      "True\n",
      "False\n"
     ]
    }
   ],
   "source": [
    "### 物件導向程式設計 ###\n",
    "\n",
    "#建立一個類別(CLASS)叫做set\n",
    "class Set:\n",
    "    def __init__(self,values=None):\n",
    "        self.dict={} #紀錄set集合中的元素\n",
    "        \n",
    "        if values is not None:\n",
    "            for value in values:\n",
    "                self.add(value) #這邊用到的add會在下面定義\n",
    "    def __repr__(self): #建立說明set物件的文字\n",
    "        return \"Set:\"+str(self.dict.keys())\n",
    "    \n",
    "    def add(self,value):\n",
    "        self.dict[value]=True\n",
    "        \n",
    "    def contains(self,value):\n",
    "        return value in self.dict\n",
    "    \n",
    "    def remove(self,value):\n",
    "        del self.dict[value]\n",
    "\n",
    "s=Set([1,2,3])\n",
    "s.add(4)\n",
    "print s.contains(4)\n",
    "s.remove(3)\n",
    "print s.contains(3)"
   ]
  },
  {
   "cell_type": "code",
   "execution_count": 17,
   "metadata": {
    "collapsed": false
   },
   "outputs": [
    {
     "name": "stdout",
     "output_type": "stream",
     "text": [
      "9\n",
      "[1, 4, 9]\n"
     ]
    }
   ],
   "source": [
    "### func tools ###\n",
    "def exp(base,power):\n",
    "    return base ** power\n",
    "\n",
    "from functools import partial\n",
    "\n",
    "two_to_the = partial(exp,power=2)\n",
    "print two_to_the(3)\n",
    "\n",
    "\n",
    "#類似apply的用法\n",
    "a=map(two_to_the,[1,2,3])\n",
    "print a\n",
    "\n",
    "#列出結果為真的資料\n",
    "def is_even(x):\n",
    "    return x%2==0\n",
    "\n",
    "x_evens=[x for x in xs if is_even(x)]\n",
    "x_evens=filter(is_even,xs)\n",
    "\n",
    "\n",
    "\n",
    "### 列舉   可替代i=1:length(dat) ###\n",
    "for i, document in enumerate(documents):\n",
    "    do_something(i,document)\n",
    "    \n",
    "### zip ###\n",
    "list1=['a','b','c']\n",
    "list2=[1,2,3]\n",
    "zip(list1,list2)\n",
    "\n",
    "pairs=[('a',1),('b',2),('c',3)]\n",
    "letters,numbers = zip(*pairs)    #把array拆分成個別的資料\n"
   ]
  },
  {
   "cell_type": "code",
   "execution_count": 27,
   "metadata": {
    "collapsed": false
   },
   "outputs": [
    {
     "name": "stdout",
     "output_type": "stream",
     "text": [
      "unnamed args: (1, 2, 3, 4)\n",
      "unnamed args: {'aa': 'haha', 'key2': 'word2', 'key': 'word'}\n",
      "14\n"
     ]
    }
   ],
   "source": [
    "### args & kwargs  無名參數組成的tuple & dict\n",
    "def magic(*args,**kwargs):\n",
    "    print \"unnamed args:\",args\n",
    "    print \"unnamed args:\", kwargs\n",
    "\n",
    "magic(1,2,3,4,key=\"word\",key2=\"word2\",aa=\"haha\")  ## word之後不能再出現數字\n",
    "\n",
    "### 高階函數 ###\n",
    "def doubler(f): #預期吃到一個函數f\n",
    "    def k(*args,**kwargs):        #不管f需要的參數有多少都可以吃\n",
    "        return 2*f(*args,**kwargs)\n",
    "    return k\n",
    "\n",
    "def f2(x,y,z=2):\n",
    "    return x+y+z\n",
    "\n",
    "    #順序-->   運作doubler ->運作f ->運作k\n",
    "    #在此狀況下其實也可以寫 def k(x,y,z): return 2*f(x,y,z)\n",
    "    #但這樣就又限制住f需要有三個值的輸入\n",
    "\n",
    "g=doubler(f2)\n",
    "\n",
    "print g(1,2)"
   ]
  },
  {
   "cell_type": "code",
   "execution_count": null,
   "metadata": {
    "collapsed": true
   },
   "outputs": [],
   "source": []
  }
 ],
 "metadata": {
  "anaconda-cloud": {},
  "kernelspec": {
   "display_name": "Python [conda root]",
   "language": "python",
   "name": "conda-root-py"
  },
  "language_info": {
   "codemirror_mode": {
    "name": "ipython",
    "version": 2
   },
   "file_extension": ".py",
   "mimetype": "text/x-python",
   "name": "python",
   "nbconvert_exporter": "python",
   "pygments_lexer": "ipython2",
   "version": "2.7.12"
  }
 },
 "nbformat": 4,
 "nbformat_minor": 1
}
