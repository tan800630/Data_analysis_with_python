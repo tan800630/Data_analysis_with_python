{
 "cells": [
  {
   "cell_type": "code",
   "execution_count": null,
   "metadata": {
    "collapsed": true
   },
   "outputs": [],
   "source": [
    "import random\n",
    "\n",
    "#machine learning\n",
    "\n",
    "def split_data(data,prob):\n",
    "    results=[],[]\n",
    "    for row in data:\n",
    "        results[0 if random.random() < prob else 1].append(row)\n",
    "    return results\n",
    "\n",
    "def train_test_split(x,y,test_pct):\n",
    "    data=zip(x,y)\n",
    "    train,test=split_data(data,1-test_pct)\n",
    "    x_train,y_train=zip(*train)\n",
    "    x_test,y_test=zip(*test)\n",
    "    return x_train,x_test,y_train,y_test\n",
    "\n",
    "# model=#_(((*&)))\n",
    "# x_train,x_test,y_train,y_test=train_test_split(xs,ys,0.33)\n",
    "# model.train(x_train,y_train)\n",
    "# performance=model.test(x_test,y_test)\n",
    "\n"
   ]
  }
 ],
 "metadata": {
  "kernelspec": {
   "display_name": "Python [conda root]",
   "language": "python",
   "name": "conda-root-py"
  },
  "language_info": {
   "codemirror_mode": {
    "name": "ipython",
    "version": 2
   },
   "file_extension": ".py",
   "mimetype": "text/x-python",
   "name": "python",
   "nbconvert_exporter": "python",
   "pygments_lexer": "ipython2",
   "version": "2.7.12"
  }
 },
 "nbformat": 4,
 "nbformat_minor": 1
}
