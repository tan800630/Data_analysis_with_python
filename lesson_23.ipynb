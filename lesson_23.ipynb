{
 "cells": [
  {
   "cell_type": "code",
   "execution_count": 13,
   "metadata": {
    "collapsed": true
   },
   "outputs": [],
   "source": [
    "from collections import defaultdict\n",
    "\n",
    "class Table:\n",
    "    def __init__(self,columns):\n",
    "        self.columns=columns\n",
    "        self.rows=[]\n",
    "    \n",
    "    def __repr__(self):\n",
    "        return str(self.columns)+ \"\\n\"+\"\\n\".join(map(str,self.rows))\n",
    "    \n",
    "    def insert(self,row_values):\n",
    "        if len(row_values) != len(self.columns):\n",
    "            raise TypeError(\"wrong number of elements\")\n",
    "        row_dict=dict(zip(self.columns,row_values))\n",
    "        self.rows.append(row_dict)\n",
    "        \n",
    "    #UPDATE users\n",
    "    #SET num_friends=3\n",
    "    #WHERE user_id=1:\n",
    "    def update(self,updates,predicate):\n",
    "        for row in self.rows:\n",
    "            if predicate(row):\n",
    "                for column,new_value in updates.iteritems():\n",
    "                    row[column]=new_value\n",
    "\n",
    "    #DELETE FROM users:\n",
    "    #DELETE FROM users WHERE user_id=1;\n",
    "    def delete(self,predicate=lambda row:True):\n",
    "        self.rows=[row for row in self.rows if not(predicate(row))]\n",
    "    \n",
    "    #SELECT * FROM users;\n",
    "    #SELECT * FROM users LINMIT 2;\n",
    "    #SELECT user_id FROM users;\n",
    "    #SELECT user_id FROM users WHERE name='Dunn';\n",
    "    def select(self,keep_columns=None,additional_columns=None):\n",
    "        if keep_columns is None:\n",
    "            keep_columns=self.columns\n",
    "        if additional_columns is None:\n",
    "            additional_columns={}\n",
    "        \n",
    "        result_table=Table(keep_columns+additional_columns.keys())\n",
    "        \n",
    "        for row in self.rows:\n",
    "            new_row=[row[column] for column in keep_columns]\n",
    "            for column_name,calculation in additional_columns.iteritems():\n",
    "                new_row.append(calculation(row))\n",
    "            result_table.insert(new_row)\n",
    "        return result_table\n",
    "    \n",
    "    def where(self,predicate=lambda row:True):\n",
    "        where_table=Table(self.columns)\n",
    "        where_table.rows=filter(predicate,self.rows)\n",
    "        return where_table\n",
    "    \n",
    "    def limit(self,num_rows):\n",
    "        limit_table=Table(self.columns)\n",
    "        limit_table.rows=self.rows[:num_rows]\n",
    "        return limit_table\n",
    "    \n",
    "    #SELECT LENGTH(name) as name_length,\n",
    "    # MIN(user_id) AS min_user_id,\n",
    "    # COUNT(*) AS num_users\n",
    "    #FROM users\n",
    "    #GROUP BY LENGTH(name);\n",
    "    \n",
    "    #SELECT SUBSTR(name,1,1) AS first_letter,\n",
    "    # AVG(num_friends) AS ave_num_friends\n",
    "    #FROM users\n",
    "    #GROUP BY SUBSTR(name,1,1)\n",
    "    #HAVING AVG(num_friends)>1;\n",
    "    def group_by(self,group_by_columns,aggregates,having=None):\n",
    "        grouped_rows=defaultdict(list)\n",
    "        \n",
    "        for row in self.rows:\n",
    "            key=tuple(row[column] for column in group_by_columns)\n",
    "            grouped_rows[key].append(row)\n",
    "        \n",
    "        result_table=Table(group_by_columns+aggregates.keys())\n",
    "        \n",
    "        for key,rows in grouped_rows.iteritems():\n",
    "            if having is None or having(rows):\n",
    "                new_row=list(key)\n",
    "                for aggregate_name,aggregate_fn in aggregates.iteritems():\n",
    "                    new_row.append(aggregate_fn(rows))\n",
    "                result_table.insert(new_row)\n",
    "        return result_table\n",
    "    \n",
    "    #SELECT * FROM users\n",
    "    #ORDER BY name\n",
    "    #LIMIT 2;\n",
    "    def order_by(self,order):\n",
    "        new_table=self.select()\n",
    "        new_table.rows.sort(key=order)\n",
    "        return new_table\n",
    "    \n",
    "    def join(self,other_table,left_join=False):\n",
    "        join_on_columns=[c for c in self.columns\n",
    "                        if c in other_table.columns]\n",
    "        \n",
    "        additional_columns=[c for c in other_table.columns\n",
    "                           if c not in join_on_columns]\n",
    "        \n",
    "        join_table=Table(self.columns+additional_columns)\n",
    "        \n",
    "        for row in self.rows:\n",
    "            def is_join(other_row):\n",
    "                return all(other_row[c]==row[c] for c in join_on_columns)\n",
    "            other_rows=other_table.where(is_join).rows\n",
    "            \n",
    "            for other_row in other_rows:\n",
    "                join_table.insert([row[c] for c in self.columns]+\n",
    "                                 [other_row[c] for c in additional_columns])\n",
    "            if left_join and not other_rows:\n",
    "                join_table.insert([row[c] for c in self.columns]+\n",
    "                                 [None for c in additional_columns])\n",
    "        return join_table\n",
    "    \n",
    "\n"
   ]
  },
  {
   "cell_type": "code",
   "execution_count": 14,
   "metadata": {
    "collapsed": false
   },
   "outputs": [
    {
     "data": {
      "text/plain": [
       "['user_id', 'name', 'num_friends']\n",
       "{'user_id': 0, 'name': 'Hero', 'num_friends': 0}\n",
       "{'user_id': 1, 'name': 'Dunn', 'num_friends': 2}\n",
       "{'user_id': 2, 'name': 'Sue', 'num_friends': 3}\n",
       "{'user_id': 3, 'name': 'Chi', 'num_friends': 3}\n",
       "{'user_id': 4, 'name': 'Thor', 'num_friends': 3}\n",
       "{'user_id': 5, 'name': 'Clive', 'num_friends': 2}\n",
       "{'user_id': 6, 'name': 'Hicks', 'num_friends': 3}\n",
       "{'user_id': 7, 'name': 'Devin', 'num_friends': 2}\n",
       "{'user_id': 8, 'name': 'Kate', 'num_friends': 2}\n",
       "{'user_id': 9, 'name': 'Klein', 'num_friends': 3}\n",
       "{'user_id': 10, 'name': 'Jen', 'num_friends': 1}"
      ]
     },
     "execution_count": 14,
     "metadata": {},
     "output_type": "execute_result"
    }
   ],
   "source": [
    "\n",
    "\n",
    "users=[[0,\"Hero\",0],\n",
    "       [1,\"Dunn\",2],\n",
    "       [2,\"Sue\",3],\n",
    "       [3,\"Chi\",3]]\n",
    "\n",
    "\n",
    "#CREATE TABLE users (\n",
    "#    user_id INT NOT NULL,\n",
    "#    name VARCHAR(200),\n",
    "#    num_friends INT);\n",
    "\n",
    "#INSERT INTO users (user_id,name,num_friends) VALUES (0,\"Hero\",0);\n",
    "\n",
    "\n",
    "users=Table([\"user_id\",\"name\",\"num_friends\"])\n",
    "users.insert([0,\"Hero\",0])\n",
    "users.insert([1,\"Dunn\",2])\n",
    "users.insert([2,\"Sue\",3])\n",
    "users.insert([3,\"Chi\",3])\n",
    "users.insert([4,\"Thor\",3])\n",
    "users.insert([5,\"Clive\",2])\n",
    "users.insert([6,\"Hicks\",3])\n",
    "users.insert([7,\"Devin\",2])\n",
    "users.insert([8,\"Kate\",2])\n",
    "users.insert([9,\"Klein\",3])\n",
    "users.insert([10,\"Jen\",1])\n",
    "\n",
    "users"
   ]
  },
  {
   "cell_type": "code",
   "execution_count": 15,
   "metadata": {
    "collapsed": false
   },
   "outputs": [
    {
     "data": {
      "text/plain": [
       "['name_length']\n",
       "{'name_length': 4}\n",
       "{'name_length': 3}\n",
       "{'name_length': 3}\n",
       "{'name_length': 4}\n",
       "{'name_length': 5}\n",
       "{'name_length': 5}\n",
       "{'name_length': 5}\n",
       "{'name_length': 4}\n",
       "{'name_length': 5}\n",
       "{'name_length': 3}"
      ]
     },
     "execution_count": 15,
     "metadata": {},
     "output_type": "execute_result"
    }
   ],
   "source": [
    "                    \n",
    "users.update({'num_friends':3},lambda row:row['user_id']==1)\n",
    "\n",
    "users.delete(lambda row:row[\"user_id\"]==1)\n",
    "#users.delete() #刪除所有資料\n",
    "\n",
    "#SELECT * FROM users;\n",
    "users.select()\n",
    "#SELECT * FROM users LIMIT 2;\n",
    "users.limit(2)\n",
    "#SELECT user_id FROM users;\n",
    "users.select(keep_columns=[\"user_id\"])\n",
    "\n",
    "#SELECT user_id FROM users WHERE name='Dunn';\n",
    "users.where(lambda row: row[\"name\"]==\"Dunn\")\\\n",
    ".select(keep_columns=[\"user_id\"])\n",
    "\n",
    "#SELECT LENGTH(name) AS name_length FROM users;\n",
    "def name_length(row): return len(row[\"name\"])\n",
    "users.select(keep_columns=[],additional_columns={\"name_length\":name_length})\n",
    "\n"
   ]
  },
  {
   "cell_type": "code",
   "execution_count": 16,
   "metadata": {
    "collapsed": false
   },
   "outputs": [],
   "source": [
    "def min_user_id(rows): return min(row[\"user_id\"] for row in rows)\n",
    "stats_by_length=users.select(additional_columns={\"name_length\":name_length}).\\\n",
    "    group_by(group_by_columns=[\"name_length\"],aggregates={\"min_user_id\":min_user_id,\"num_users\":len})"
   ]
  },
  {
   "cell_type": "code",
   "execution_count": 17,
   "metadata": {
    "collapsed": false
   },
   "outputs": [
    {
     "name": "stdout",
     "output_type": "stream",
     "text": [
      "['user_id', 'num_interests']\n",
      "{'user_id': 0, 'num_interests': 2}\n",
      "{'user_id': 2, 'num_interests': 2}\n",
      "{'user_id': 8, 'num_interests': 0}\n",
      "{'user_id': 3, 'num_interests': 0}\n",
      "{'user_id': 9, 'num_interests': 0}\n",
      "{'user_id': 4, 'num_interests': 0}\n",
      "{'user_id': 10, 'num_interests': 0}\n",
      "{'user_id': 5, 'num_interests': 0}\n",
      "{'user_id': 6, 'num_interests': 0}\n",
      "{'user_id': 7, 'num_interests': 0}\n"
     ]
    }
   ],
   "source": [
    "#CREATE TABLE user_interests (\n",
    "#   user_id,INT NOT NULL,\n",
    "#   interest VARCHAR(100) NOT NULL);\n",
    "user_interests=Table([\"user_id\",\"interest\"])\n",
    "user_interests.insert([0,\"SQL\"])\n",
    "user_interests.insert([0,\"NoSQL\"])\n",
    "user_interests.insert([2,\"SQL\"])\n",
    "user_interests.insert([2,\"NoSQL\"])\n",
    "\n",
    "\n",
    "#SELECT users.name\n",
    "#FROM users\n",
    "#JOIN user_interests\n",
    "#ON users.user_id=user_interests.user_id\n",
    "#WHERE user_interests.interest ='SQL'\n",
    "\n",
    "sql_users=users\\\n",
    ".join(user_interests)\\\n",
    ".where(lambda row: row[\"interest\"]==\"SQL\")\\\n",
    ".select(keep_columns=[\"name\"])\n",
    "\n",
    "def count_interests(rows):\n",
    "    return len([row for row in rows if row[\"interest\"] is not None])\n",
    "\n",
    "user_interest_counts=users.join(user_interests,left_join=True)\\\n",
    ".group_by(group_by_columns=[\"user_id\"],aggregates={\"num_interests\":count_interests})\n",
    "\n",
    "print user_interest_counts"
   ]
  },
  {
   "cell_type": "code",
   "execution_count": 19,
   "metadata": {
    "collapsed": false
   },
   "outputs": [
    {
     "data": {
      "text/plain": [
       "['min_user_id']\n",
       "{'min_user_id': 0}"
      ]
     },
     "execution_count": 19,
     "metadata": {},
     "output_type": "execute_result"
    }
   ],
   "source": [
    "#SELECT MIN(user_id) AS min_user_id FROM\n",
    "#(SELECT user_id FROM user_interests WHERE interest='SQL') sqlinterests;\n",
    "\n",
    "likes_sql_user_ids=user_interests.where(lambda row:row[\"interest\"]==\"SQL\")\\\n",
    ".select(keep_columns=['user_id'])\n",
    "\n",
    "likes_sql_user_ids.group_by(group_by_columns=[],aggregates={\"min_user_id\": min_user_id})\n",
    "\n"
   ]
  },
  {
   "cell_type": "code",
   "execution_count": null,
   "metadata": {
    "collapsed": true
   },
   "outputs": [],
   "source": []
  }
 ],
 "metadata": {
  "anaconda-cloud": {},
  "kernelspec": {
   "display_name": "Python [conda root]",
   "language": "python",
   "name": "conda-root-py"
  },
  "language_info": {
   "codemirror_mode": {
    "name": "ipython",
    "version": 2
   },
   "file_extension": ".py",
   "mimetype": "text/x-python",
   "name": "python",
   "nbconvert_exporter": "python",
   "pygments_lexer": "ipython2",
   "version": "2.7.12"
  }
 },
 "nbformat": 4,
 "nbformat_minor": 1
}
