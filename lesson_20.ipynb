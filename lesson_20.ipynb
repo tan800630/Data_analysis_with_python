{
 "cells": [
  {
   "cell_type": "code",
   "execution_count": 26,
   "metadata": {
    "collapsed": false
   },
   "outputs": [
    {
     "data": {
      "image/png": "[encoded data removed]",
      "text/plain": [
       "<matplotlib.figure.Figure at 0x7297e10>"
      ]
     },
     "metadata": {},
     "output_type": "display_data"
    }
   ],
   "source": [
    "from matplotlib import pyplot as plt\n",
    "from bs4 import BeautifulSoup\n",
    "from collections import defaultdict,Counter\n",
    "import requests,re,random\n",
    "\n",
    "#natural language processing\n",
    "\n",
    "data=[(\"big data\",100,15),(\"Hadoop\",95,25),(\"Python\",75,50),(\"R\",50,50),(\"machine learning\",80,20),(\"statistics\",20,60),\n",
    "     (\"data science\",60,70),(\"analytics\",90,3),(\"team player\",85,85),(\"dynamic\",2,90),(\"synergies\",70,0),\n",
    "     (\"actionable insights\",40,30),(\"think out of the box\",45,10),(\"thought leadership\",35,35)]\n",
    "\n",
    "def text_size(total):\n",
    "    return 8+total/200*20\n",
    "\n",
    "for word,job_popularity,resume_popularity in data:\n",
    "    plt.text(job_popularity,resume_popularity,word,\n",
    "            ha='center',va='center',size=text_size(job_popularity+resume_popularity))\n",
    "plt.xlabel(\"Popularity on job Postings\")\n",
    "plt.ylabel(\"Popularity on Resumes\")\n",
    "plt.axis([0,100,0,100])\n",
    "plt.xticks([])\n",
    "plt.yticks([])\n",
    "plt.show()"
   ]
  },
  {
   "cell_type": "code",
   "execution_count": 10,
   "metadata": {
    "collapsed": false
   },
   "outputs": [],
   "source": [
    "#n-gram\n",
    "\n",
    "def fix_unicode(text):\n",
    "    return text.replace(u\"\\u2019\",\"'\")\n",
    "\n",
    "\n",
    "\n",
    "url=\"http://radar.oreilly.com/2010/06/what-is-data-science.html\"\n",
    "html=requests.get(url).text\n",
    "soup=BeautifulSoup(html,'html5lib')\n",
    "content=soup.find(\"div\",\"article-body\")\n",
    "regex=r\"[\\w']+|[\\.]\"\n",
    "\n",
    "document=[]\n",
    "\n",
    "for paragraph in content(\"p\"):\n",
    "    words=re.findall(regex,fix_unicode(paragraph.text))\n",
    "    document.extend(words)\n"
   ]
  },
  {
   "cell_type": "code",
   "execution_count": 19,
   "metadata": {
    "collapsed": false
   },
   "outputs": [
    {
     "data": {
      "text/plain": [
       "u'They accept all heard big problem involves making a public website by a set of followers on data .'"
      ]
     },
     "execution_count": 19,
     "metadata": {},
     "output_type": "execute_result"
    }
   ],
   "source": [
    "from collections import defaultdict\n",
    "import random\n",
    "\n",
    "bigrams=zip(document,document[1:])\n",
    "transitions=defaultdict(list)\n",
    "for prev,current in bigrams:\n",
    "    transitions[prev].append(current)\n",
    "    \n",
    "def generate_using_bigrams():\n",
    "    current=\".\"\n",
    "    result=[]\n",
    "    while True:\n",
    "        next_word_candidates=transitions[current] #第一輪他會找句點後的第一個詞\n",
    "        current=random.choice(next_word_candidates)\n",
    "        result.append(current)\n",
    "        if current==\".\":return \" \".join(result)\n",
    "\n",
    "generate_using_bigrams()"
   ]
  },
  {
   "cell_type": "code",
   "execution_count": 21,
   "metadata": {
    "collapsed": false
   },
   "outputs": [
    {
     "data": {
      "text/plain": [
       "u'Patil described the process worked quite differently it started out with a background in computer science majors .'"
      ]
     },
     "execution_count": 21,
     "metadata": {},
     "output_type": "execute_result"
    }
   ],
   "source": [
    "trigrams=zip(document,document[1:],document[2:])\n",
    "trigram_transitions=defaultdict(list)\n",
    "starts=[]\n",
    "\n",
    "for prev,current,next in trigrams:\n",
    "    if prev==\".\":\n",
    "        starts.append(current)\n",
    "        \n",
    "    trigram_transitions[(prev,current)].append(next)\n",
    "\n",
    "def generate_using_trigrams():\n",
    "    current=random.choice(starts)\n",
    "    prev=\".\"\n",
    "    result=[current]\n",
    "    while True:\n",
    "        next_word_candidates=trigram_transitions[(prev,current)]\n",
    "        next_word=random.choice(next_word_candidates)\n",
    "        \n",
    "        prev,current=current,next_word\n",
    "        result.append(current)\n",
    "        \n",
    "        if current==\".\":return \" \".join(result)\n",
    "\n",
    "generate_using_trigrams()"
   ]
  },
  {
   "cell_type": "code",
   "execution_count": 23,
   "metadata": {
    "collapsed": false
   },
   "outputs": [
    {
     "data": {
      "text/plain": [
       "['Python', 'is', 'big', 'Python', 'about', 'logistic', 'regression']"
      ]
     },
     "execution_count": 23,
     "metadata": {},
     "output_type": "execute_result"
    }
   ],
   "source": [
    "##part of speech\n",
    "\n",
    "grammar={\n",
    "    \"_S\":[\"_NP _VP\"],\n",
    "    \"_NP\":[\"_N\",\"_A _NP _P _A _N\"],\n",
    "    \"_VP\":[\"_V\",\"_V _NP\"],\n",
    "    \"_N\":[\"data science\",\"Python\",\"regression\"],\n",
    "    \"_A\":[\"big\",\"linear\",\"logistic\"],\n",
    "    \"_P\":[\"about\",\"near\"],\n",
    "    \"_V\":[\"learns\",\"trains\",\"tests\",\"is\"]\n",
    "}\n",
    "\n",
    "def is_terminal(token):\n",
    "    return token[0] !=\"_\"\n",
    "\n",
    "def expand(grammar,tokens):\n",
    "    for i,token in enumerate(tokens):\n",
    "        \n",
    "        if is_terminal(token): continue\n",
    "        \n",
    "        replacement=random.choice(grammar[token])\n",
    "        \n",
    "        if is_terminal(replacement):\n",
    "            tokens[i]=replacement\n",
    "        else:\n",
    "            tokens=tokens[:i]+replacement.split()+tokens[(i+1):]\n",
    "        \n",
    "        return expand(grammar,tokens)\n",
    "    return tokens\n",
    "\n",
    "def generate_sentence(grammar):\n",
    "    return expand(grammar,[\"_S\"])\n",
    "\n",
    "generate_sentence(grammar)"
   ]
  },
  {
   "cell_type": "code",
   "execution_count": 24,
   "metadata": {
    "collapsed": false
   },
   "outputs": [
    {
     "data": {
      "text/plain": [
       "defaultdict(<function __main__.<lambda>>,\n",
       "            {(1, 2): [25, 32],\n",
       "             (1, 3): [33, 30],\n",
       "             (1, 4): [41, 30],\n",
       "             (1, 5): [23, 26],\n",
       "             (1, 6): [23, 30],\n",
       "             (1, 7): [21, 31],\n",
       "             (2, 3): [27, 38],\n",
       "             (2, 4): [18, 33],\n",
       "             (2, 5): [37, 25],\n",
       "             (2, 6): [24, 45],\n",
       "             (2, 7): [31, 30],\n",
       "             (2, 8): [25, 23],\n",
       "             (3, 4): [26, 22],\n",
       "             (3, 5): [36, 31],\n",
       "             (3, 6): [23, 33],\n",
       "             (3, 7): [27, 24],\n",
       "             (3, 8): [29, 31],\n",
       "             (3, 9): [30, 25],\n",
       "             (4, 5): [22, 21],\n",
       "             (4, 6): [21, 24],\n",
       "             (4, 7): [27, 18],\n",
       "             (4, 8): [43, 18],\n",
       "             (4, 9): [33, 27],\n",
       "             (4, 10): [28, 21],\n",
       "             (5, 6): [31, 20],\n",
       "             (5, 7): [31, 27],\n",
       "             (5, 8): [27, 27],\n",
       "             (5, 9): [29, 24],\n",
       "             (5, 10): [29, 25],\n",
       "             (5, 11): [34, 31],\n",
       "             (6, 7): [27, 29],\n",
       "             (6, 8): [20, 24],\n",
       "             (6, 9): [23, 29],\n",
       "             (6, 10): [31, 41],\n",
       "             (6, 11): [24, 21],\n",
       "             (6, 12): [21, 34]})"
      ]
     },
     "execution_count": 24,
     "metadata": {},
     "output_type": "execute_result"
    }
   ],
   "source": [
    "#gibbs 抽樣\n",
    "\n",
    "def roll_a_die():\n",
    "    return random.choice([1,2,3,4,5,6])\n",
    "\n",
    "def direct_sample():\n",
    "    d1=roll_a_die()\n",
    "    d2=roll_a_die()\n",
    "    return d1,d1+d2\n",
    "\n",
    "def random_y_given_x(x):\n",
    "    return x+roll_a_die()\n",
    "\n",
    "def random_x_given_y(y):\n",
    "    if y<=7:\n",
    "        return random.randrange(1,y)\n",
    "    else:\n",
    "        return random.randrange(y-6,7)\n",
    "\n",
    "def gibbs_sample(num_iters=100):\n",
    "    x,y=2,3 #隨意取起始值沒關係\n",
    "    \n",
    "    for _ in range(num_iters):\n",
    "        x=random_x_given_y(y)\n",
    "        y=random_y_given_x(x)\n",
    "    return x,y\n",
    "\n",
    "def compare_distributions(num_samples=1000):\n",
    "    counts=defaultdict(lambda:[0,0])\n",
    "    for _ in range(num_samples):\n",
    "        counts[gibbs_sample()][0]+=1\n",
    "        counts[direct_sample()][1]+=1\n",
    "    return counts\n",
    "\n",
    "compare_distributions()"
   ]
  },
  {
   "cell_type": "code",
   "execution_count": 65,
   "metadata": {
    "collapsed": false
   },
   "outputs": [],
   "source": [
    "def sample_from(weights):\n",
    "    total=sum(weights)\n",
    "    rnd=total*random.random()\n",
    "    for i,w in enumerate(weights):\n",
    "        rnd-=w\n",
    "        if rnd<=0:return i\n",
    "        \n",
    "documents=[\n",
    "    [\"Hadoop\",\"Big Data\",\"HBase\",\"Java\",\"Spark\",\"Storm\",\"Cassandra\"],\n",
    "    [\"NoSQL\",\"MongoDB\",\"Cassandra\",\"HBase\",\"Postgres\"],\n",
    "    [\"Python\",\"scikit-learn\",\"scipy\",\"numpy\",\"statsmodels\",\"pandas\"],\n",
    "    [\"R\",\"Python\",\"statistics\",\"regression\",\"probability\"],\n",
    "    [\"machine learning\",\"regression\",\"decision trees\",\"libsvm\"],\n",
    "    [\"Python\",\"R\",\"Java\",\"C++\",\"Haskell\",\"programming languages\"],\n",
    "    [\"statistics\",\"probability\",\"mathematics\",\"theory\"],\n",
    "    [\"machine learning\",\"scikit-learn\",\"Mahout\",\"neural networks\"],\n",
    "    [\"neural networks\",\"deep learning\",\"Big Data\",\"artificial intelligence\"],\n",
    "    [\"Hadoop\",\"Java\",\"MapReduce\",\"Big Data\"],\n",
    "    [\"statistics\",\"R\",\"statsmodels\"],\n",
    "    [\"C++\",\"deep learning\",\"artificial intelligence\"],\n",
    "    [\"pandas\",\"R\",\"Python\"],\n",
    "    [\"databases\",\"HBase\",\"Postgres\",\"MySQL\",\"MongoDB\"],\n",
    "    [\"libsvm\",\"regression\",\"support vector machines\"]\n",
    "]\n",
    "\n",
    "K=4\n",
    "\n",
    "document_topic_counts=[Counter() for _ in documents]            ####??????\n",
    "topic_word_counts=[Counter() for _ in range(K)]\n",
    "topic_counts=[0 for _ in range(K)]\n",
    "document_lengths=map(len,documents)\n",
    "distinct_words=set(word for document in documents for word in document)\n",
    "W=len(distinct_words)\n",
    "\n",
    "D=len(documents)\n",
    "\n",
    "document_topic_counts[3][1]\n",
    "\n",
    "\n",
    "\n",
    "def p_topic_given_document(topic,d,alpha=0.1):\n",
    "    return ((document_topic_counts[d][topic]+alpha)/\n",
    "           (document_lengths[d]+K*alpha))\n",
    "\n",
    "def p_word_given_topic(word,topic,beta=0.1):\n",
    "    return ((topic_word_counts[topic][word]+beta)/\n",
    "           (topic_counts[topic]+W*beta))\n",
    "\n",
    "def topic_weight(d,word,k):\n",
    "    return p_word_given_topic(word,k)*p_topic_given_document(k,d)\n",
    "\n",
    "def choose_new_topic(d,word):\n",
    "    return sample_from([topic_weight(d,word,k)\n",
    "                       for k in range(K)])\n"
   ]
  },
  {
   "cell_type": "code",
   "execution_count": 66,
   "metadata": {
    "collapsed": false
   },
   "outputs": [
    {
     "name": "stdout",
     "output_type": "stream",
     "text": [
      "0 neural networks 2\n",
      "0 regression 2\n",
      "0 probability 2\n",
      "0 machine learning 2\n",
      "0 Mahout 1\n",
      "0 statistics 1\n",
      "0 mathematics 1\n",
      "0 theory 1\n",
      "0 libsvm 1\n",
      "0 decision trees 1\n",
      "0 scikit-learn 1\n",
      "1 HBase 3\n",
      "1 Postgres 2\n",
      "1 MongoDB 2\n",
      "1 Cassandra 2\n",
      "1 Storm 1\n",
      "1 MySQL 1\n",
      "1 regression 1\n",
      "1 artificial intelligence 1\n",
      "1 C++ 1\n",
      "1 databases 1\n",
      "1 support vector machines 1\n",
      "2 Python 4\n",
      "2 R 4\n",
      "2 statistics 2\n",
      "2 pandas 2\n",
      "2 statsmodels 2\n",
      "2 NoSQL 1\n",
      "2 programming languages 1\n",
      "2 Haskell 1\n",
      "2 numpy 1\n",
      "2 libsvm 1\n",
      "2 C++ 1\n",
      "2 scipy 1\n",
      "2 scikit-learn 1\n",
      "3 Java 3\n",
      "3 Big Data 3\n",
      "3 Hadoop 2\n",
      "3 deep learning 2\n",
      "3 Spark 1\n",
      "3 artificial intelligence 1\n",
      "3 MapReduce 1\n"
     ]
    }
   ],
   "source": [
    "random.seed(0)\n",
    "document_topics=[[random.randrange(K) for word in document]for document in documents]\n",
    "\n",
    "for d in range(D):\n",
    "    for word,topic in zip(documents[d],document_topics[d]):\n",
    "        document_topic_counts[d][topic]+=1\n",
    "        topic_word_counts[topic][word]+=1\n",
    "        topic_counts[topic]+=1\n",
    "\n",
    "for iter in range(1000):\n",
    "    for d in range(D):\n",
    "        for i, (word,topic) in enumerate(zip(documents[d],document_topics[d])):\n",
    "            \n",
    "            document_topic_counts[d][topic] -=1\n",
    "            topic_word_counts[topic][word] -=1\n",
    "            topic_counts[topic] -=1\n",
    "            document_lengths[d] -=1\n",
    "            \n",
    "            new_topic=choose_new_topic(d,word)\n",
    "            document_topics[d][i]=new_topic\n",
    "            \n",
    "            document_topic_counts[d][new_topic]+=1\n",
    "            topic_word_counts[new_topic][word]+=1\n",
    "            topic_counts[new_topic]+=1\n",
    "            document_lengths[d]+=1\n",
    "\n",
    "for k,word_counts in enumerate(topic_word_counts):\n",
    "    for word,count in word_counts.most_common():\n",
    "        if count >0:print k,word,count\n",
    "\n",
    "##結果好像不大一樣"
   ]
  },
  {
   "cell_type": "code",
   "execution_count": 67,
   "metadata": {
    "collapsed": false
   },
   "outputs": [
    {
     "name": "stdout",
     "output_type": "stream",
     "text": [
      "['Hadoop', 'Big Data', 'HBase', 'Java', 'Spark', 'Storm', 'Cassandra']\n",
      "machine learning 4\n",
      "Python and statistics 3\n",
      "\n",
      "\n",
      "['NoSQL', 'MongoDB', 'Cassandra', 'HBase', 'Postgres']\n",
      "Python and statistics 4\n",
      "databases 1\n",
      "\n",
      "\n",
      "['Python', 'scikit-learn', 'scipy', 'numpy', 'statsmodels', 'pandas']\n",
      "databases 6\n",
      "\n",
      "\n",
      "\n",
      "['R', 'Python', 'statistics', 'regression', 'probability']\n",
      "databases 3\n",
      "Big Data and programing languages 2\n",
      "\n",
      "\n",
      "['machine learning', 'regression', 'decision trees', 'libsvm']\n",
      "Big Data and programing languages 4\n",
      "\n",
      "\n",
      "\n",
      "['Python', 'R', 'Java', 'C++', 'Haskell', 'programming languages']\n",
      "databases 5\n",
      "machine learning 1\n",
      "\n",
      "\n",
      "['statistics', 'probability', 'mathematics', 'theory']\n",
      "Big Data and programing languages 4\n",
      "\n",
      "\n",
      "\n",
      "['machine learning', 'scikit-learn', 'Mahout', 'neural networks']\n",
      "Big Data and programing languages 4\n",
      "\n",
      "\n",
      "\n",
      "['neural networks', 'deep learning', 'Big Data', 'artificial intelligence']\n",
      "machine learning 3\n",
      "Big Data and programing languages 1\n",
      "\n",
      "\n",
      "['Hadoop', 'Java', 'MapReduce', 'Big Data']\n",
      "machine learning 4\n",
      "\n",
      "\n",
      "\n",
      "['statistics', 'R', 'statsmodels']\n",
      "databases 3\n",
      "\n",
      "\n",
      "\n",
      "['C++', 'deep learning', 'artificial intelligence']\n",
      "Python and statistics 2\n",
      "machine learning 1\n",
      "\n",
      "\n",
      "['pandas', 'R', 'Python']\n",
      "databases 3\n",
      "\n",
      "\n",
      "\n",
      "['databases', 'HBase', 'Postgres', 'MySQL', 'MongoDB']\n",
      "Python and statistics 5\n",
      "\n",
      "\n",
      "\n",
      "['libsvm', 'regression', 'support vector machines']\n",
      "Python and statistics 2\n",
      "databases 1\n",
      "\n",
      "\n"
     ]
    }
   ],
   "source": [
    "topic_names=[\"Big Data and programing languages\",\"Python and statistics\",\"databases\",\"machine learning\"]\n",
    "\n",
    "for document,topic_counts in zip(documents,document_topic_counts):\n",
    "    print document\n",
    "    for topic, count in topic_counts.most_common():\n",
    "        if count>0:\n",
    "            print topic_names[topic],count,\n",
    "        print"
   ]
  },
  {
   "cell_type": "code",
   "execution_count": null,
   "metadata": {
    "collapsed": true
   },
   "outputs": [],
   "source": []
  }
 ],
 "metadata": {
  "anaconda-cloud": {},
  "kernelspec": {
   "display_name": "Python [conda root]",
   "language": "python",
   "name": "conda-root-py"
  },
  "language_info": {
   "codemirror_mode": {
    "name": "ipython",
    "version": 2
   },
   "file_extension": ".py",
   "mimetype": "text/x-python",
   "name": "python",
   "nbconvert_exporter": "python",
   "pygments_lexer": "ipython2",
   "version": "2.7.12"
  }
 },
 "nbformat": 4,
 "nbformat_minor": 1
}
