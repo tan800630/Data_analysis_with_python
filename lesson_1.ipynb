{
 "cells": [
  {
   "cell_type": "code",
   "execution_count": 30,
   "metadata": {
    "collapsed": false
   },
   "outputs": [
    {
     "name": "stdout",
     "output_type": "stream",
     "text": [
      "{'id': 1, 'name': 'Dunn'}\n"
     ]
    }
   ],
   "source": [
    "users =[\n",
    "    {\"id\":0,\"name\":\"hero\"},\n",
    "    {\"id\":1,\"name\":\"Dunn\"},\n",
    "    {\"id\":2,\"name\":\"Sue\"},\n",
    "    {\"id\":3,\"name\":\"Chi\"},\n",
    "    {\"id\":4,\"name\":\"Thor\"},\n",
    "    {\"id\":5,\"name\":\"Clive\"},\n",
    "    {\"id\":6,\"name\":\"Hicks\"},\n",
    "    {\"id\":7,\"name\":\"Devin\"},\n",
    "    {\"id\":8,\"name\":\"Kate\"},\n",
    "    {\"id\":9,\"name\":\"Klein\"}\n",
    "]\n",
    "\n",
    "friendships=[(0,1),(0,2),(1,2),(1,3),(2,3),(3,4),(4,5),(5,6),(5,7),(6,8),(7,8),(8,9)]\n"
   ]
  },
  {
   "cell_type": "code",
   "execution_count": 4,
   "metadata": {
    "collapsed": false
   },
   "outputs": [
    {
     "data": {
      "text/plain": [
       "24"
      ]
     },
     "execution_count": 4,
     "metadata": {},
     "output_type": "execute_result"
    }
   ],
   "source": [
    "for user in users:\n",
    "    user[\"friends\"]=[]\n",
    "    \n",
    "for i,j in friendships:\n",
    "    #user[i]\n",
    "    users[i][\"friends\"].append(users[j])\n",
    "    users[j][\"friends\"].append(users[i])\n",
    "    \n",
    "def number_of_friends(user):\n",
    "    return len(user[\"friends\"])\n",
    "\n",
    "total_connections=sum(number_of_friends(user) for user in users)\n",
    "\n",
    "total_connections"
   ]
  },
  {
   "cell_type": "code",
   "execution_count": 6,
   "metadata": {
    "collapsed": false
   },
   "outputs": [
    {
     "data": {
      "text/plain": [
       "2.4"
      ]
     },
     "execution_count": 6,
     "metadata": {},
     "output_type": "execute_result"
    }
   ],
   "source": [
    "from __future__ import division\n",
    "\n",
    "num_users = len(users)\n",
    "\n",
    "avg_connections = total_connections/num_users\n",
    "\n",
    "avg_connections"
   ]
  },
  {
   "cell_type": "code",
   "execution_count": 7,
   "metadata": {
    "collapsed": false
   },
   "outputs": [
    {
     "data": {
      "text/plain": [
       "[(1, 3),\n",
       " (2, 3),\n",
       " (3, 3),\n",
       " (5, 3),\n",
       " (8, 3),\n",
       " (0, 2),\n",
       " (4, 2),\n",
       " (6, 2),\n",
       " (7, 2),\n",
       " (9, 1)]"
      ]
     },
     "execution_count": 7,
     "metadata": {},
     "output_type": "execute_result"
    }
   ],
   "source": [
    "num_friends_by_id =[(user[\"id\"],number_of_friends(user)) for user in users]\n",
    "\n",
    "sorted(num_friends_by_id,key=lambda(user_id,num_friends): num_friends,reverse=True)"
   ]
  },
  {
   "cell_type": "code",
   "execution_count": 11,
   "metadata": {
    "collapsed": false
   },
   "outputs": [
    {
     "name": "stdout",
     "output_type": "stream",
     "text": [
      "[1, 2]\n",
      "[0, 2, 3]\n",
      "[0, 1, 3]\n"
     ]
    }
   ],
   "source": [
    "def friends_of_friend_ids_bad(user):\n",
    "    return[foaf[\"id\"]\n",
    "          for friend in user[\"friends\"]\n",
    "          for foaf in friend[\"friends\"]]\n",
    "\n",
    "friends_of_friend_ids_bad(users[0])\n",
    "\n",
    "print [friend[\"id\"] for friend in users[0][\"friends\"]]\n",
    "print [friend[\"id\"] for friend in users[1][\"friends\"]]\n",
    "print [friend[\"id\"] for friend in users[2][\"friends\"]]"
   ]
  },
  {
   "cell_type": "code",
   "execution_count": 31,
   "metadata": {
    "collapsed": false
   },
   "outputs": [
    {
     "data": {
      "text/plain": [
       "True"
      ]
     },
     "execution_count": 31,
     "metadata": {},
     "output_type": "execute_result"
    }
   ],
   "source": [
    "from collections import Counter\n",
    "\n",
    "def not_the_same(user,other_user):\n",
    "    return user[\"id\"] !=other_user[\"id\"]\n",
    "\n",
    "def not_friends(user,other_user):\n",
    "    return all(not_the_same(friend,other_user) for friend in user[\"friends\"])\n",
    "\n",
    "def friends_of_friend_ids(user):\n",
    "    return Counter(foaf[\"id\"]\n",
    "                  for friend in user[\"friends\"]\n",
    "                  for foaf in friend[\"friends\"]\n",
    "                  if not_the_same(user,foaf)\n",
    "                  and not_friends(user,foaf))\n",
    "\n",
    "print friends_of_friend_ids(users[3])"
   ]
  },
  {
   "cell_type": "code",
   "execution_count": 35,
   "metadata": {
    "collapsed": false
   },
   "outputs": [
    {
     "data": {
      "text/plain": [
       "[0, 9]"
      ]
     },
     "execution_count": 35,
     "metadata": {},
     "output_type": "execute_result"
    }
   ],
   "source": [
    "###############################\n",
    "\n",
    "interests=[\n",
    "    (0,\"Hadoop\"),(0,\"Big Data\"),(0,\"HBase\"),(0,\"Java\"),\n",
    "    (0,\"Spark\"),(0,\"Storm\"),(0,\"Cassandra\"),\n",
    "    (1,\"NoSQL\"),(1,\"MongoDB\"),(1,\"Cassandra\"),(1,\"HBase\"),\n",
    "    (1,\"Postgres\"),(2,\"Python\"),(2,\"scikit-learn\"),(2,\"scipy\"),\n",
    "    (2,\"numpy\"),(2,\"statsmodels\"),(2,\"pandas\"),(3,\"R\"),(3,\"Python\"),\n",
    "    (3,\"statistics\"),(3,\"regression\"),(3,\"probability\"),\n",
    "    (4,\"machine learning\"),(4,\"regression\"),(4,\"dicision trees\"),\n",
    "    (4,\"libsvm\"),(5,\"Python\"),(5,\"R\"),(5,\"Java\"),(5,\"C++\"),\n",
    "    (5,\"Haskell\"),(5,\"programing languages\"),(6,\"statistics\"),\n",
    "    (6,\"probability\"),(6,\"mathematics\"),(6,\"theory\"),\n",
    "    (7,\"machine learning\"),(7,\"scikit-learn\"),(7,\"Mahout\"),\n",
    "    (7,\"neural networks\"),(8,\"neural networks\"),(8,\"deep learning\"),\n",
    "    (8,\"Big Data\"),(8,\"artificial intelligence\"),(9,\"Hadoop\"),\n",
    "    (9,\"Java\"),(9,\"MapReduce\"),(9,\"Big Data\")\n",
    "]\n",
    "\n",
    "def data_scientists_who_like(target_interest):\n",
    "    return [user_id\n",
    "           for user_id,user_interest in interests\n",
    "           if user_interest==target_interest]\n",
    "\n",
    "from collections import defaultdict\n",
    "\n",
    "#key=興趣,value=有此興趣的使用者列表\n",
    "user_ids_by_interest=defaultdict(list)\n",
    "\n",
    "for user_id, interest in interests:\n",
    "    user_ids_by_interest[interest].append(user_id)\n",
    "    \n",
    "#key=使用者編號, value=使用者興趣列表\n",
    "interests_by_user_id=defaultdict(list)\n",
    "\n",
    "for user_id, interest in interests:\n",
    "    interests_by_user_id[user_id].append(interest)\n",
    "    \n",
    "#data_scientists_who_like(\"Hadoop\")"
   ]
  },
  {
   "cell_type": "code",
   "execution_count": 38,
   "metadata": {
    "collapsed": false
   },
   "outputs": [
    {
     "name": "stdout",
     "output_type": "stream",
     "text": [
      "defaultdict(<type 'list'>, {6.5: [69000], 7.5: [76000], 6: [76000], 10: [83000], 8.1: [88000], 4.2: [63000], 0.7: [48000], 8.7: [83000], 1.9: [48000], 2.5: [60000]})\n",
      "{6.5: 69000.0, 7.5: 76000.0, 6: 76000.0, 10: 83000.0, 8.1: 88000.0, 4.2: 63000.0, 8.7: 83000.0, 0.7: 48000.0, 1.9: 48000.0, 2.5: 60000.0}\n"
     ]
    }
   ],
   "source": [
    "##########################################\n",
    "\n",
    "salaries_and_tenures = [(83000,8.7),(88000,8.1),\n",
    "                       (48000,0.7),(76000,6),\n",
    "                       (69000,6.5),(76000,7.5),\n",
    "                       (60000,2.5),(83000,10),\n",
    "                       (48000,1.9),(63000,4.2)]\n",
    "\n",
    "salary_by_tenure=defaultdict(list)\n",
    "\n",
    "for salary,tenure in salaries_and_tenures:\n",
    "    salary_by_tenure[tenure].append(salary)\n",
    "    \n",
    "print salary_by_tenure\n",
    "\n",
    "average_salary_by_tenure={\n",
    "    tenure:sum(salaries)/len(salaries)\n",
    "    for tenure,salaries in salary_by_tenure.items()\n",
    "}\n",
    "\n",
    "print average_salary_by_tenure"
   ]
  },
  {
   "cell_type": "code",
   "execution_count": 39,
   "metadata": {
    "collapsed": false
   },
   "outputs": [
    {
     "name": "stdout",
     "output_type": "stream",
     "text": [
      "{'more than five': 79166.66666666667, 'between two and five': 61500.0, 'less than two': 48000.0}\n"
     ]
    }
   ],
   "source": [
    "def tenure_bucket(tenure):\n",
    "    if tenure<2:\n",
    "        return \"less than two\"\n",
    "    elif tenure<5:\n",
    "        return \"between two and five\"\n",
    "    else:\n",
    "        return \"more than five\" \n",
    "    \n",
    "salary_by_tenure_bucket=defaultdict(list)\n",
    "\n",
    "for salary,tenure in salaries_and_tenures:\n",
    "    bucket=tenure_bucket(tenure)\n",
    "    salary_by_tenure_bucket[bucket].append(salary)\n",
    "    \n",
    "average_salary_by_bucket={\n",
    "    tenure_bucket:sum(salaries)/len(salaries)\n",
    "    for tenure_bucket,salaries in salary_by_tenure_bucket.iteritems()\n",
    "}\n",
    "\n",
    "print average_salary_by_bucket"
   ]
  },
  {
   "cell_type": "code",
   "execution_count": 40,
   "metadata": {
    "collapsed": false
   },
   "outputs": [
    {
     "name": "stdout",
     "output_type": "stream",
     "text": [
      "learning 3\n",
      "java 3\n",
      "python 3\n",
      "big 3\n",
      "data 3\n",
      "hbase 2\n",
      "regression 2\n",
      "cassandra 2\n",
      "statistics 2\n",
      "probability 2\n",
      "hadoop 2\n",
      "networks 2\n",
      "machine 2\n",
      "neural 2\n",
      "scikit-learn 2\n",
      "r 2\n"
     ]
    }
   ],
   "source": [
    "words_and_counts=Counter(word\n",
    "                        for user,interest in interests\n",
    "                        for word in interest.lower().split())\n",
    "\n",
    "for word,count in words_and_counts.most_common():\n",
    "    if count>1:\n",
    "        print word,count\n",
    "\n"
   ]
  },
  {
   "cell_type": "code",
   "execution_count": null,
   "metadata": {
    "collapsed": true
   },
   "outputs": [],
   "source": []
  }
 ],
 "metadata": {
  "anaconda-cloud": {},
  "celltoolbar": "Edit Metadata",
  "kernelspec": {
   "display_name": "Python [conda root]",
   "language": "python",
   "name": "conda-root-py"
  },
  "language_info": {
   "codemirror_mode": {
    "name": "ipython",
    "version": 2
   },
   "file_extension": ".py",
   "mimetype": "text/x-python",
   "name": "python",
   "nbconvert_exporter": "python",
   "pygments_lexer": "ipython2",
   "version": "2.7.12"
  }
 },
 "nbformat": 4,
 "nbformat_minor": 1
}
